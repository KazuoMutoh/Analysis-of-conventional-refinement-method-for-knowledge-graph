{
 "cells": [
  {
   "cell_type": "markdown",
   "id": "2cb59aaf-d1ac-4b0b-b8dc-55c5a663a244",
   "metadata": {},
   "source": [
    "# Loss score comparison"
   ]
  },
  {
   "cell_type": "markdown",
   "id": "04417e0e-ed03-492a-9fb8-2be35dc06eb8",
   "metadata": {},
   "source": [
    "## modules"
   ]
  },
  {
   "cell_type": "code",
   "execution_count": 1,
   "id": "0bae01f5-e05f-4230-9371-3d8fde2d4fec",
   "metadata": {},
   "outputs": [],
   "source": [
    "from util.databinder import DataBinder\n",
    "from IPython.display import display, HTML"
   ]
  },
  {
   "cell_type": "markdown",
   "id": "4101730b-db14-4788-8f27-8aa583e20f66",
   "metadata": {},
   "source": [
    "## parameters"
   ]
  },
  {
   "cell_type": "code",
   "execution_count": 2,
   "id": "7ea8b3a5-5aa5-4dbe-b088-d914f03d0dc9",
   "metadata": {},
   "outputs": [],
   "source": [
    "dir_report = './reports/20240725'\n",
    "'''\n",
    "list_report_name = [\n",
    "    'kinships_transe_false_triple_analysis',\n",
    "    'wn18rr_transe_false_triple_analysis',\n",
    "    'fb15k237_transe_false_triple_analysis',\n",
    "]\n",
    "'''\n",
    "list_report_name = [\n",
    "    'fb15k237_transe_false_triple_analysis',\n",
    "    'fb15k237_distmult_false_triple_analysis',\n",
    "]"
   ]
  },
  {
   "cell_type": "markdown",
   "id": "93e1c7b3-86ca-4d54-afc7-dedbc47a9850",
   "metadata": {},
   "source": [
    "## main"
   ]
  },
  {
   "cell_type": "code",
   "execution_count": 3,
   "id": "76ba859e-4744-4a0a-821a-247269287947",
   "metadata": {},
   "outputs": [
    {
     "name": "stderr",
     "output_type": "stream",
     "text": [
      "INFO:root:Loaded info from ./reports/20240725/fb15k237_transe_false_triple_analysis/info.json\n",
      "INFO:root:Loaded info from ./reports/20240725/fb15k237_distmult_false_triple_analysis/info.json\n"
     ]
    }
   ],
   "source": [
    "dict_db = {}\n",
    "for name in list_report_name:\n",
    "    dict_db[name] = DataBinder(target_dir=f'{dir_report}/{name}')"
   ]
  },
  {
   "cell_type": "code",
   "execution_count": 4,
   "id": "78dbfbfb-0f24-4ab0-bb08-4293fcb9b99d",
   "metadata": {},
   "outputs": [
    {
     "data": {
      "text/html": [
       "<h3>fb15k237_transe_false_triple_analysis</h3>"
      ],
      "text/plain": [
       "<IPython.core.display.HTML object>"
      ]
     },
     "metadata": {},
     "output_type": "display_data"
    },
    {
     "data": {
      "text/html": [
       "<h4>Hits@K</h4>"
      ],
      "text/plain": [
       "<IPython.core.display.HTML object>"
      ]
     },
     "metadata": {},
     "output_type": "display_data"
    },
    {
     "data": {
      "text/html": [
       "<h5>Vanilla</h5>"
      ],
      "text/plain": [
       "<IPython.core.display.HTML object>"
      ]
     },
     "metadata": {},
     "output_type": "display_data"
    },
    {
     "data": {
      "text/html": [
       "<div>\n",
       "<style scoped>\n",
       "    .dataframe tbody tr th:only-of-type {\n",
       "        vertical-align: middle;\n",
       "    }\n",
       "\n",
       "    .dataframe tbody tr th {\n",
       "        vertical-align: top;\n",
       "    }\n",
       "\n",
       "    .dataframe thead th {\n",
       "        text-align: right;\n",
       "    }\n",
       "</style>\n",
       "<table border=\"1\" class=\"dataframe\">\n",
       "  <thead>\n",
       "    <tr style=\"text-align: right;\">\n",
       "      <th>k</th>\n",
       "      <th>1</th>\n",
       "      <th>3</th>\n",
       "      <th>5</th>\n",
       "      <th>10</th>\n",
       "    </tr>\n",
       "  </thead>\n",
       "  <tbody>\n",
       "    <tr>\n",
       "      <th>hits@k</th>\n",
       "      <td>0.094089</td>\n",
       "      <td>0.164351</td>\n",
       "      <td>0.207995</td>\n",
       "      <td>0.283858</td>\n",
       "    </tr>\n",
       "  </tbody>\n",
       "</table>\n",
       "</div>"
      ],
      "text/plain": [
       "k             1         3         5         10\n",
       "hits@k  0.094089  0.164351  0.207995  0.283858"
      ]
     },
     "metadata": {},
     "output_type": "display_data"
    },
    {
     "data": {
      "text/html": [
       "<h5>Filtered</h5>"
      ],
      "text/plain": [
       "<IPython.core.display.HTML object>"
      ]
     },
     "metadata": {},
     "output_type": "display_data"
    },
    {
     "data": {
      "text/html": [
       "<div>\n",
       "<style scoped>\n",
       "    .dataframe tbody tr th:only-of-type {\n",
       "        vertical-align: middle;\n",
       "    }\n",
       "\n",
       "    .dataframe tbody tr th {\n",
       "        vertical-align: top;\n",
       "    }\n",
       "\n",
       "    .dataframe thead th {\n",
       "        text-align: right;\n",
       "    }\n",
       "</style>\n",
       "<table border=\"1\" class=\"dataframe\">\n",
       "  <thead>\n",
       "    <tr style=\"text-align: right;\">\n",
       "      <th>k</th>\n",
       "      <th>1</th>\n",
       "      <th>3</th>\n",
       "      <th>5</th>\n",
       "      <th>10</th>\n",
       "    </tr>\n",
       "  </thead>\n",
       "  <tbody>\n",
       "    <tr>\n",
       "      <th>hits@k</th>\n",
       "      <td>0.136486</td>\n",
       "      <td>0.233364</td>\n",
       "      <td>0.287968</td>\n",
       "      <td>0.371538</td>\n",
       "    </tr>\n",
       "  </tbody>\n",
       "</table>\n",
       "</div>"
      ],
      "text/plain": [
       "k             1         3         5         10\n",
       "hits@k  0.136486  0.233364  0.287968  0.371538"
      ]
     },
     "metadata": {},
     "output_type": "display_data"
    },
    {
     "data": {
      "text/html": [
       "<h4>True negative ratio</h4>"
      ],
      "text/plain": [
       "<IPython.core.display.HTML object>"
      ]
     },
     "metadata": {},
     "output_type": "display_data"
    },
    {
     "data": {
      "text/html": [
       "<div>\n",
       "<style scoped>\n",
       "    .dataframe tbody tr th:only-of-type {\n",
       "        vertical-align: middle;\n",
       "    }\n",
       "\n",
       "    .dataframe tbody tr th {\n",
       "        vertical-align: top;\n",
       "    }\n",
       "\n",
       "    .dataframe thead th {\n",
       "        text-align: right;\n",
       "    }\n",
       "</style>\n",
       "<table border=\"1\" class=\"dataframe\">\n",
       "  <thead>\n",
       "    <tr style=\"text-align: right;\">\n",
       "      <th>Top</th>\n",
       "      <th>0.01</th>\n",
       "      <th>0.03</th>\n",
       "      <th>0.05</th>\n",
       "    </tr>\n",
       "  </thead>\n",
       "  <tbody>\n",
       "    <tr>\n",
       "      <th>tnr(mean)</th>\n",
       "      <td>0.802451</td>\n",
       "      <td>0.374388</td>\n",
       "      <td>0.246327</td>\n",
       "    </tr>\n",
       "  </tbody>\n",
       "</table>\n",
       "</div>"
      ],
      "text/plain": [
       "Top            0.01      0.03      0.05\n",
       "tnr(mean)  0.802451  0.374388  0.246327"
      ]
     },
     "metadata": {},
     "output_type": "display_data"
    },
    {
     "data": {
      "text/html": [
       "<img src=\"./reports/20240725/fb15k237_transe_false_triple_analysis/fig_tnr.png\">"
      ],
      "text/plain": [
       "<IPython.core.display.HTML object>"
      ]
     },
     "metadata": {},
     "output_type": "display_data"
    },
    {
     "data": {
      "text/html": [
       "<h4>Score</h4>"
      ],
      "text/plain": [
       "<IPython.core.display.HTML object>"
      ]
     },
     "metadata": {},
     "output_type": "display_data"
    },
    {
     "data": {
      "text/html": [
       "<img src=\"./reports/20240725/fb15k237_transe_false_triple_analysis/fig_score.png\">"
      ],
      "text/plain": [
       "<IPython.core.display.HTML object>"
      ]
     },
     "metadata": {},
     "output_type": "display_data"
    },
    {
     "data": {
      "text/html": [
       "<h3>fb15k237_distmult_false_triple_analysis</h3>"
      ],
      "text/plain": [
       "<IPython.core.display.HTML object>"
      ]
     },
     "metadata": {},
     "output_type": "display_data"
    },
    {
     "data": {
      "text/html": [
       "<h4>Hits@K</h4>"
      ],
      "text/plain": [
       "<IPython.core.display.HTML object>"
      ]
     },
     "metadata": {},
     "output_type": "display_data"
    },
    {
     "data": {
      "text/html": [
       "<h5>Vanilla</h5>"
      ],
      "text/plain": [
       "<IPython.core.display.HTML object>"
      ]
     },
     "metadata": {},
     "output_type": "display_data"
    },
    {
     "data": {
      "text/html": [
       "<div>\n",
       "<style scoped>\n",
       "    .dataframe tbody tr th:only-of-type {\n",
       "        vertical-align: middle;\n",
       "    }\n",
       "\n",
       "    .dataframe tbody tr th {\n",
       "        vertical-align: top;\n",
       "    }\n",
       "\n",
       "    .dataframe thead th {\n",
       "        text-align: right;\n",
       "    }\n",
       "</style>\n",
       "<table border=\"1\" class=\"dataframe\">\n",
       "  <thead>\n",
       "    <tr style=\"text-align: right;\">\n",
       "      <th>k</th>\n",
       "      <th>1</th>\n",
       "      <th>3</th>\n",
       "      <th>5</th>\n",
       "      <th>10</th>\n",
       "    </tr>\n",
       "  </thead>\n",
       "  <tbody>\n",
       "    <tr>\n",
       "      <th>hits@k</th>\n",
       "      <td>0.049834</td>\n",
       "      <td>0.104462</td>\n",
       "      <td>0.1313</td>\n",
       "      <td>0.190087</td>\n",
       "    </tr>\n",
       "  </tbody>\n",
       "</table>\n",
       "</div>"
      ],
      "text/plain": [
       "k             1         3       5         10\n",
       "hits@k  0.049834  0.104462  0.1313  0.190087"
      ]
     },
     "metadata": {},
     "output_type": "display_data"
    },
    {
     "data": {
      "text/html": [
       "<h5>Filtered</h5>"
      ],
      "text/plain": [
       "<IPython.core.display.HTML object>"
      ]
     },
     "metadata": {},
     "output_type": "display_data"
    },
    {
     "data": {
      "text/html": [
       "<div>\n",
       "<style scoped>\n",
       "    .dataframe tbody tr th:only-of-type {\n",
       "        vertical-align: middle;\n",
       "    }\n",
       "\n",
       "    .dataframe tbody tr th {\n",
       "        vertical-align: top;\n",
       "    }\n",
       "\n",
       "    .dataframe thead th {\n",
       "        text-align: right;\n",
       "    }\n",
       "</style>\n",
       "<table border=\"1\" class=\"dataframe\">\n",
       "  <thead>\n",
       "    <tr style=\"text-align: right;\">\n",
       "      <th>k</th>\n",
       "      <th>1</th>\n",
       "      <th>3</th>\n",
       "      <th>5</th>\n",
       "      <th>10</th>\n",
       "    </tr>\n",
       "  </thead>\n",
       "  <tbody>\n",
       "    <tr>\n",
       "      <th>hits@k</th>\n",
       "      <td>0.073588</td>\n",
       "      <td>0.141599</td>\n",
       "      <td>0.180301</td>\n",
       "      <td>0.256654</td>\n",
       "    </tr>\n",
       "  </tbody>\n",
       "</table>\n",
       "</div>"
      ],
      "text/plain": [
       "k             1         3         5         10\n",
       "hits@k  0.073588  0.141599  0.180301  0.256654"
      ]
     },
     "metadata": {},
     "output_type": "display_data"
    },
    {
     "data": {
      "text/html": [
       "<h4>True negative ratio</h4>"
      ],
      "text/plain": [
       "<IPython.core.display.HTML object>"
      ]
     },
     "metadata": {},
     "output_type": "display_data"
    },
    {
     "data": {
      "text/html": [
       "<div>\n",
       "<style scoped>\n",
       "    .dataframe tbody tr th:only-of-type {\n",
       "        vertical-align: middle;\n",
       "    }\n",
       "\n",
       "    .dataframe tbody tr th {\n",
       "        vertical-align: top;\n",
       "    }\n",
       "\n",
       "    .dataframe thead th {\n",
       "        text-align: right;\n",
       "    }\n",
       "</style>\n",
       "<table border=\"1\" class=\"dataframe\">\n",
       "  <thead>\n",
       "    <tr style=\"text-align: right;\">\n",
       "      <th>Top</th>\n",
       "      <th>0.01</th>\n",
       "      <th>0.03</th>\n",
       "      <th>0.05</th>\n",
       "    </tr>\n",
       "  </thead>\n",
       "  <tbody>\n",
       "    <tr>\n",
       "      <th>tnr(mean)</th>\n",
       "      <td>0.995098</td>\n",
       "      <td>0.992496</td>\n",
       "      <td>0.985015</td>\n",
       "    </tr>\n",
       "  </tbody>\n",
       "</table>\n",
       "</div>"
      ],
      "text/plain": [
       "Top            0.01      0.03      0.05\n",
       "tnr(mean)  0.995098  0.992496  0.985015"
      ]
     },
     "metadata": {},
     "output_type": "display_data"
    },
    {
     "data": {
      "text/html": [
       "<img src=\"./reports/20240725/fb15k237_distmult_false_triple_analysis/fig_tnr.png\">"
      ],
      "text/plain": [
       "<IPython.core.display.HTML object>"
      ]
     },
     "metadata": {},
     "output_type": "display_data"
    },
    {
     "data": {
      "text/html": [
       "<h4>Score</h4>"
      ],
      "text/plain": [
       "<IPython.core.display.HTML object>"
      ]
     },
     "metadata": {},
     "output_type": "display_data"
    },
    {
     "data": {
      "text/html": [
       "<img src=\"./reports/20240725/fb15k237_distmult_false_triple_analysis/fig_score.png\">"
      ],
      "text/plain": [
       "<IPython.core.display.HTML object>"
      ]
     },
     "metadata": {},
     "output_type": "display_data"
    }
   ],
   "source": [
    "for name, db in dict_db.items():\n",
    "    \n",
    "    sr_hits_at_k = db.get('sr_hits_at_k')\n",
    "    sr_vhits_at_k = db.get('sr_vhits_at_k')\n",
    "    df_tnr = db.get('df_tnr')\n",
    "    sr_tnr_mean = db.get('sr_tnr_mean')\n",
    "    fig_tnr = db.get('fig_tnr')\n",
    "    fig_score = db.get('fig_score')\n",
    "\n",
    "    display(HTML(f'<h3>{name}</h3>'))\n",
    "    display(HTML('<h4>Hits@K</h4>'))\n",
    "    display(HTML('<h5>Vanilla</h5>'))\n",
    "    display(sr_vhits_at_k.to_frame().T)\n",
    "    display(HTML('<h5>Filtered</h5>'))\n",
    "    display(sr_hits_at_k.to_frame().T)\n",
    "    \n",
    "    display(HTML('<h4>True negative ratio</h4>'))\n",
    "    display(sr_tnr_mean.to_frame().T)\n",
    "    display(HTML(f'<img src=\"{fig_tnr}\">'))\n",
    "\n",
    "    display(HTML('<h4>Score</h4>'))\n",
    "    display(HTML(f'<img src=\"{fig_score}\">'))"
   ]
  },
  {
   "cell_type": "code",
   "execution_count": null,
   "id": "63f4f84d-a187-45f6-9f8f-05155a85ef3b",
   "metadata": {},
   "outputs": [],
   "source": []
  }
 ],
 "metadata": {
  "kernelspec": {
   "display_name": "Python 3 (ipykernel)",
   "language": "python",
   "name": "python3"
  },
  "language_info": {
   "codemirror_mode": {
    "name": "ipython",
    "version": 3
   },
   "file_extension": ".py",
   "mimetype": "text/x-python",
   "name": "python",
   "nbconvert_exporter": "python",
   "pygments_lexer": "ipython3",
   "version": "3.10.14"
  }
 },
 "nbformat": 4,
 "nbformat_minor": 5
}
