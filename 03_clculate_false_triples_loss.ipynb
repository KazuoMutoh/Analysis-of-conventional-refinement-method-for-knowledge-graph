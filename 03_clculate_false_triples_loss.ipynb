{
 "cells": [
  {
   "cell_type": "markdown",
   "id": "fdfaf035-224f-47c7-a250-6860d92f04c4",
   "metadata": {},
   "source": [
    "# Calculate loss score of false triples\n",
    "学習した埋め込みモデルを使ってスコアなどを計算する．\n",
    "計算結果の構造は下記の通り．\n",
    "\n",
    "\n",
    "- model_random_seed\n",
    "    - model_info\n",
    "        - hits@k\n",
    "        - vanilla hits@k\n",
    "    - eval_results\n",
    "        - data_random_seed\n",
    "            - false_dataset(including calculated score)\n",
    "            - precision_recall_curve\n",
    "                - precision\n",
    "                - recall\n",
    "                - auc\n",
    "            - true_positive_ratio\n",
    "                - top_k"
   ]
  },
  {
   "cell_type": "markdown",
   "id": "22d629e0-fcee-47e1-b9c4-45f86bd4065f",
   "metadata": {},
   "source": [
    "## modules"
   ]
  },
  {
   "cell_type": "code",
   "execution_count": 1,
   "id": "08c3976e-9892-40d0-9114-ca8dfba87b12",
   "metadata": {},
   "outputs": [
    {
     "name": "stderr",
     "output_type": "stream",
     "text": [
      "/home/acg16558pn/kg_20240423/lib/python3.10/site-packages/pykeen/evaluation/evaluator.py:16: TqdmExperimentalWarning: Using `tqdm.autonotebook.tqdm` in notebook mode. Use `tqdm.tqdm` instead to force console mode (e.g. in jupyter console)\n",
      "  from tqdm.autonotebook import tqdm\n"
     ]
    }
   ],
   "source": [
    "import torch\n",
    "import json\n",
    "import pylab as plt\n",
    "import pandas as pd\n",
    "from sources.evaluation import vanilla_hits_at_k\n",
    "from IPython.display import display, HTML\n",
    "from pykeen.datasets import get_dataset\n",
    "from util.databinder import DataBinder\n",
    "from pykeen.evaluation import RankBasedEvaluator\n",
    "from sklearn.metrics import precision_recall_curve, auc\n",
    "from util.databinder import DataBinder"
   ]
  },
  {
   "cell_type": "markdown",
   "id": "9b129561-623d-406d-871f-73b2c0b222c8",
   "metadata": {},
   "source": [
    "## variables, functions and classes"
   ]
  },
  {
   "cell_type": "code",
   "execution_count": 2,
   "id": "c4366404-55df-4a92-9265-4998322eb16c",
   "metadata": {},
   "outputs": [],
   "source": [
    "def load_json_from_file(f:str):\n",
    "    with open(f, 'r') as fin:\n",
    "        dict_data = json.load(fin)\n",
    "    return dict_data"
   ]
  },
  {
   "cell_type": "markdown",
   "id": "f488a48f-ce20-4521-a03c-c88b9b357ace",
   "metadata": {},
   "source": [
    "## parameters"
   ]
  },
  {
   "cell_type": "code",
   "execution_count": 3,
   "id": "eaa2920b-623d-4625-a960-352775c5eb01",
   "metadata": {},
   "outputs": [],
   "source": [
    "# directory for trained model\n",
    "dir_model = './models/20240803/kge_try2_transe_fb15k237'\n",
    "\n",
    "# directory for false triples\n",
    "dir_false_dataset = './data/processed/20240803/false_dataset_try1_fb15k237'\n",
    "\n",
    "# direcory for report\n",
    "dir_report = './reports/20240803/eval_results_try2_fb15k237_transe_v2'"
   ]
  },
  {
   "cell_type": "markdown",
   "id": "563bc765-11ef-420a-b6d8-cad730be5570",
   "metadata": {},
   "source": [
    "## main"
   ]
  },
  {
   "cell_type": "markdown",
   "id": "ecce43dc-0746-403e-9a6c-f721892a932c",
   "metadata": {},
   "source": [
    "### input check"
   ]
  },
  {
   "cell_type": "code",
   "execution_count": 4,
   "id": "ef7a2a66-b566-49fa-8ad5-4a247f3a80d8",
   "metadata": {},
   "outputs": [
    {
     "name": "stderr",
     "output_type": "stream",
     "text": [
      "INFO:root:Loaded info from ./models/20240803/kge_try2_transe_fb15k237/info.json\n",
      "INFO:root:Loaded info from ./data/processed/20240803/false_dataset_try1_fb15k237/info.json\n"
     ]
    }
   ],
   "source": [
    "db_model = DataBinder(dir_model)\n",
    "db_false_dataset = DataBinder(dir_false_dataset)"
   ]
  },
  {
   "cell_type": "code",
   "execution_count": 5,
   "id": "7a03bc19-6652-40a7-8bdd-1036d5d17c73",
   "metadata": {},
   "outputs": [],
   "source": [
    "if db_model.get('dataset_name') != db_false_dataset.get('dataset_name'):\n",
    "    raise Exception('a name of data set is inconsistent between knowledge graph embedding model and data set')"
   ]
  },
  {
   "cell_type": "markdown",
   "id": "fb535821-392d-43ca-8859-e76fc411ba6c",
   "metadata": {},
   "source": [
    "### read model & data"
   ]
  },
  {
   "cell_type": "code",
   "execution_count": 6,
   "id": "52e97cbe-2a8c-4edd-89e7-19558be981b1",
   "metadata": {},
   "outputs": [
    {
     "name": "stderr",
     "output_type": "stream",
     "text": [
      "INFO:pykeen.datasets.utils:Loading cached preprocessed dataset from file:///home/acg16558pn/.data/pykeen/datasets/fb15k237/cache/47DEQpj8HBSa-_TImW-5JCeuQeRkm5NM\n",
      "INFO:pykeen.triples.triples_factory:Loading from file:///home/acg16558pn/.data/pykeen/datasets/fb15k237/cache/47DEQpj8HBSa-_TImW-5JCeuQeRkm5NM/training\n",
      "INFO:pykeen.triples.triples_factory:Loading from file:///home/acg16558pn/.data/pykeen/datasets/fb15k237/cache/47DEQpj8HBSa-_TImW-5JCeuQeRkm5NM/testing\n",
      "INFO:pykeen.triples.triples_factory:Loading from file:///home/acg16558pn/.data/pykeen/datasets/fb15k237/cache/47DEQpj8HBSa-_TImW-5JCeuQeRkm5NM/validation\n"
     ]
    }
   ],
   "source": [
    "dataset = get_dataset(dataset=db_model.get('dataset_name'), dataset_kwargs={'create_inverse_triples':True})"
   ]
  },
  {
   "cell_type": "code",
   "execution_count": 7,
   "id": "55866acd-a745-4835-bea3-1355e54b35f9",
   "metadata": {},
   "outputs": [],
   "source": [
    "dict_models = {k:torch.load(f'{dir_model}/{k}/trained_model.pkl') for k in db_model.get('list_random_seeds')}\n",
    "dict_model_info = {k:load_json_from_file(f'{dir_model}/{k}/results.json') for k in db_model.get('list_random_seeds')}"
   ]
  },
  {
   "cell_type": "code",
   "execution_count": 8,
   "id": "12cfcc00-c54d-454c-ab67-d86ada57f59f",
   "metadata": {},
   "outputs": [
    {
     "name": "stderr",
     "output_type": "stream",
     "text": [
      "INFO:root:Loaded info from ./data/processed/20240803/false_dataset_try1_fb15k237/info.json\n"
     ]
    }
   ],
   "source": [
    "db_false_triples = DataBinder(target_dir=dir_false_dataset)\n",
    "list_random_seed = db_false_triples.get('list_random_seed')\n",
    "dict_false_triples = {}\n",
    "for random_seed in list_random_seed:\n",
    "    i = int(random_seed)\n",
    "    dict_false_triples[i] = {}\n",
    "    dict_false_triples[i]['tf'] = db_false_triples.get(f'tf_{random_seed}')\n",
    "    dict_false_triples[i]['tt'] = db_false_triples.get(f'tt_{random_seed}')\n",
    "    dict_false_triples[i]['df_feature'] = db_false_triples.get(f'df_tt_tf_features_{random_seed}')"
   ]
  },
  {
   "cell_type": "markdown",
   "id": "e2326ced-d056-4da7-b068-20f239799e9f",
   "metadata": {},
   "source": [
    "### evaluate models"
   ]
  },
  {
   "cell_type": "code",
   "execution_count": 9,
   "id": "cf2cb2aa-a8ad-4fc3-8dad-c11a26a0a10c",
   "metadata": {},
   "outputs": [],
   "source": [
    "dict_eval_results = {model_random_seed: {'model_info':{}, 'eval_results':{}} for model_random_seed in db_model.get('list_random_seeds')}"
   ]
  },
  {
   "cell_type": "markdown",
   "id": "f8baeee2-2baa-457b-b023-79614a0428dd",
   "metadata": {},
   "source": [
    "Hits@k of the knowledge graph embedding model (calculated by pykeen)"
   ]
  },
  {
   "cell_type": "code",
   "execution_count": 10,
   "id": "5658a276-a0ae-41a1-b9e9-d06830a0c18f",
   "metadata": {},
   "outputs": [],
   "source": [
    "for seed in db_model.get('list_random_seeds'):\n",
    "    dict_data = {}\n",
    "    for i in [1,3,5,10]:\n",
    "        dict_data[i] = dict_model_info[seed]['metrics']['both']['realistic'][f'hits_at_{i}']\n",
    "    dict_eval_results[seed]['model_info']['hits@k'] = dict_data"
   ]
  },
  {
   "cell_type": "markdown",
   "id": "6e076eaf-3abc-4919-86a4-a1aca2d62872",
   "metadata": {},
   "source": [
    "Hits@k of knowledge graph embeddign model (calculated by homemade function)"
   ]
  },
  {
   "cell_type": "code",
   "execution_count": 11,
   "id": "b6561295-0d79-41fa-bd32-b4713fa2cdc3",
   "metadata": {},
   "outputs": [],
   "source": [
    "for seed in db_model.get('list_random_seeds'):\n",
    "    dict_data = vanilla_hits_at_k(dict_models[seed], dataset.testing.mapped_triples)\n",
    "    dict_eval_results[seed]['model_info']['vanilla hits@k'] = dict_data"
   ]
  },
  {
   "cell_type": "markdown",
   "id": "824288d0-ed4a-4809-ba76-53a3173ac0f5",
   "metadata": {},
   "source": [
    "Calculate score and true nagative ratio"
   ]
  },
  {
   "cell_type": "code",
   "execution_count": 12,
   "id": "0bafbd29-8f84-4df8-a3a1-0086b5a17f60",
   "metadata": {},
   "outputs": [
    {
     "data": {
      "image/png": "[encoded data removed]",
      "text/plain": [
       "<Figure size 640x480 with 1 Axes>"
      ]
     },
     "metadata": {},
     "output_type": "display_data"
    }
   ],
   "source": [
    "fig_pr_curve, ax = plt.subplots()\n",
    "# for each model random seed\n",
    "for model_random_seed in db_model.get('list_random_seeds'):\n",
    "\n",
    "    # for eacch data set random seed\n",
    "    for random_seed in dict_false_triples.keys():\n",
    "\n",
    "        # prepaer for ealuation\n",
    "        kge_model = dict_models[model_random_seed]\n",
    "        \n",
    "        tf = dict_false_triples[random_seed]['tf']\n",
    "        tt = dict_false_triples[random_seed]['tt']\n",
    "        df_feature = dict_false_triples[random_seed]['df_feature']\n",
    "\n",
    "        # calculate socre\n",
    "        score_tf = kge_model.score_hrt(tf.mapped_triples).cpu().detach().numpy()\n",
    "        df_feature['score'] = score_tf\n",
    "    \n",
    "        score_tt = kge_model.score_hrt(tt.mapped_triples).cpu().detach().numpy()\n",
    "        df_feature['score(org)'] = score_tt\n",
    "    \n",
    "        dict_eval_results[model_random_seed]['eval_results'][random_seed] = {}\n",
    "        dict_eval_results[model_random_seed]['eval_results'][random_seed]['false_dataset'] = df_feature\n",
    "\n",
    "        # calculate true positive ratio\n",
    "        n = len(df_feature)\n",
    "        df_sorted_feature = df_feature.sort_values('score')\n",
    "        dict_eval_results[model_random_seed]['eval_results'][random_seed]['true_positive_ratio'] = {}\n",
    "        for k in [0.01, 0.03, 0.05]:\n",
    "            n_top = int(n*k)\n",
    "            df = df_sorted_feature.head(n_top)\n",
    "            threashold = df['score'].max()\n",
    "            tn = len(df[df['is-error']==True])\n",
    "            fp = len(df[df['is-error']==False])\n",
    "            tnr = tn/(fp+tn)\n",
    "\n",
    "            dict_eval_results[model_random_seed]['eval_results'][random_seed]['true_positive_ratio'][k] = {} \n",
    "            dict_eval_results[model_random_seed]['eval_results'][random_seed]['true_positive_ratio'][k]['value'] = tnr\n",
    "            dict_eval_results[model_random_seed]['eval_results'][random_seed]['true_positive_ratio'][k]['threashold'] = threashold   \n",
    "\n",
    "        # calculate precision and recall curve\n",
    "        y_true = df_feature['is-error']\n",
    "        y_scores = -df_feature['score']\n",
    "        precision, recall, _ = precision_recall_curve(y_true, y_scores)\n",
    "        pr_auc = auc(recall, precision)\n",
    "\n",
    "        dict_eval_results[model_random_seed]['eval_results'][random_seed]['precision_recall_curve'] = {}\n",
    "        dict_eval_results[model_random_seed]['eval_results'][random_seed]['precision_recall_curve']['precision'] = precision\n",
    "        dict_eval_results[model_random_seed]['eval_results'][random_seed]['precision_recall_curve']['recall'] = recall\n",
    "        dict_eval_results[model_random_seed]['eval_results'][random_seed]['precision_recall_curve']['auc'] = auc\n",
    "        \n",
    "        ax.plot(recall, precision, marker='.')\n",
    "        ax.set_xlabel('Recall')\n",
    "        ax.set_ylabel('Precision')\n",
    "        ax.set_title(f'Precision-Recall Curve (AUC = {pr_auc:.2f})')"
   ]
  },
  {
   "cell_type": "code",
   "execution_count": 13,
   "id": "2551b1b0-9701-425f-afdb-8eb557f8b8cf",
   "metadata": {},
   "outputs": [
    {
     "data": {
      "text/plain": [
       "0.08129285014691479"
      ]
     },
     "execution_count": 13,
     "metadata": {},
     "output_type": "execute_result"
    }
   ],
   "source": [
    "tnr"
   ]
  },
  {
   "cell_type": "markdown",
   "id": "4b30cbbb-baa7-4e10-8c3a-e27565d0cc83",
   "metadata": {},
   "source": [
    "### save results"
   ]
  },
  {
   "cell_type": "code",
   "execution_count": 14,
   "id": "aa687e9a-ad0a-4752-a152-7995ef7f640d",
   "metadata": {},
   "outputs": [
    {
     "name": "stderr",
     "output_type": "stream",
     "text": [
      "INFO:root:Create ./reports/20240803/eval_results_try2_fb15k237_transe_v2\n"
     ]
    }
   ],
   "source": [
    "db = DataBinder(target_dir=dir_report)"
   ]
  },
  {
   "cell_type": "code",
   "execution_count": 15,
   "id": "5102b8bd-986d-45d9-b4a9-1a48d7b19663",
   "metadata": {},
   "outputs": [
    {
     "name": "stderr",
     "output_type": "stream",
     "text": [
      "INFO:root:Saved info at 2024-08-07 06:20:57\n",
      "INFO:root:Saved info at 2024-08-07 06:20:57\n",
      "INFO:root:Saved info at 2024-08-07 06:20:57\n"
     ]
    },
    {
     "data": {
      "text/plain": [
       "'./reports/20240803/eval_results_try2_fb15k237_transe_v2/db_false_dataset.pt'"
      ]
     },
     "execution_count": 15,
     "metadata": {},
     "output_type": "execute_result"
    }
   ],
   "source": [
    "db.add('dict_eval_results', dict_eval_results)\n",
    "db.add('db_model', db_model)\n",
    "db.add('db_false_dataset', db_false_dataset)"
   ]
  },
  {
   "cell_type": "code",
   "execution_count": null,
   "id": "a36246d7-83b9-46ce-847c-129a817353da",
   "metadata": {},
   "outputs": [],
   "source": []
  }
 ],
 "metadata": {
  "kernelspec": {
   "display_name": "Python 3 (ipykernel)",
   "language": "python",
   "name": "python3"
  },
  "language_info": {
   "codemirror_mode": {
    "name": "ipython",
    "version": 3
   },
   "file_extension": ".py",
   "mimetype": "text/x-python",
   "name": "python",
   "nbconvert_exporter": "python",
   "pygments_lexer": "ipython3",
   "version": "3.10.14"
  }
 },
 "nbformat": 4,
 "nbformat_minor": 5
}
