{
 "cells": [
  {
   "cell_type": "markdown",
   "id": "29a58d26-1884-4e22-84af-5094d9958c18",
   "metadata": {},
   "source": [
    "# Hits@Kの計算方法の確認\n",
    "## 目的\n",
    "pykeenのHits@Kの計算結果がおかしいので，自分で実装したものを比較してみる．"
   ]
  },
  {
   "cell_type": "markdown",
   "id": "7319369d-fb0c-4e62-af4b-864d86b0ecca",
   "metadata": {},
   "source": [
    "## \n",
    "moduels"
   ]
  },
  {
   "cell_type": "code",
   "execution_count": 47,
   "id": "c944970b-6fea-4a74-a4bf-50e87779588b",
   "metadata": {},
   "outputs": [],
   "source": [
    "import torch\n",
    "import json\n",
    "import pandas as pd\n",
    "import numpy as np\n",
    "from IPython.display import display, HTML\n",
    "from pykeen.datasets import get_dataset\n",
    "from pykeen.evaluation import RankBasedEvaluator"
   ]
  },
  {
   "cell_type": "markdown",
   "id": "8300897f-51c0-40d1-91ab-55eeda243899",
   "metadata": {},
   "source": [
    "## variables, functions and classes"
   ]
  },
  {
   "cell_type": "code",
   "execution_count": 67,
   "id": "f45a5eb5-2c68-4f31-8ddb-af2a9a76b860",
   "metadata": {},
   "outputs": [],
   "source": [
    "def vanilla_hits_at_k(kge_model, mapped_triples, ks=[1,3,5,10], batch_size=100, output_type='both'):\n",
    "\n",
    "    dict_isin_at_k = {}\n",
    "    dict_hits_at_k = {}\n",
    "    \n",
    "    dict_isin_at_k['tail'] = {k:[] for k in ks}\n",
    "    dict_isin_at_k['head'] = {k:[] for k in ks}\n",
    "\n",
    "    n_all = triples.shape[0]\n",
    "    batch_size = 100\n",
    "\n",
    "    for _type in ['head', 'tail']:\n",
    "        \n",
    "        for i in range(0,n_all,batch_size):\n",
    "            \n",
    "            j = min(i+batch_size,n_all)\n",
    "\n",
    "            if _type == 'tail':\n",
    "                # a list of tails\n",
    "                nids = triples[i:j,2]\n",
    "                # a list of score(h,r,*)\n",
    "                scores = kge_model.score_t(triples[i:j,:2])\n",
    "            else:\n",
    "                # a list of heads\n",
    "                nids = triples[i:j,0]\n",
    "                # a list of score(*,r,t)\n",
    "                scores = kge_model.score_h(triples[i:j,1:])\n",
    "\n",
    "            # for each head/tail\n",
    "            for nid, _scores in zip(nids, scores):\n",
    "                # sort scores\n",
    "                _sorted_nid = torch.argsort(_scores,descending=True)\n",
    "                # judge if head/tail is in top k\n",
    "                for k in ks:\n",
    "                    dict_isin_at_k[_type][k].append((nid in _sorted_nid[:k]))\n",
    "\n",
    "        dict_hits_at_k[_type] = {}\n",
    "        for k, list_isin in dict_isin_at_k[_type].items():\n",
    "            dict_hits_at_k[_type][k] = sum(list_isin)/len(list_isin)\n",
    "\n",
    "    dict_hits_at_k['both'] = {}\n",
    "    for k in [1,3,5,10]:\n",
    "        v1 = dict_hits_at_k['tail'][k]\n",
    "        v2 = dict_hits_at_k['head'][k]\n",
    "        dict_hits_at_k['both'][k] = (v1 + v2)/2.0   \n",
    "\n",
    "    if output_type == None:\n",
    "        return dict_hits_at_k\n",
    "    else:\n",
    "        return dict_hits_at_k[output_type]"
   ]
  },
  {
   "cell_type": "markdown",
   "id": "a7efc760-c390-4838-8d3a-2970c1632050",
   "metadata": {},
   "source": [
    "## parameters"
   ]
  },
  {
   "cell_type": "code",
   "execution_count": 3,
   "id": "08c49c54-3797-461f-ba47-3fffa569f41a",
   "metadata": {},
   "outputs": [],
   "source": [
    "# データセットの名称\n",
    "dataset = 'fb15k237'\n",
    "# 学習済みのモデルのあるディレクトリ\n",
    "dir_model = './models/20240606/fb15k237_transe_no_option'"
   ]
  },
  {
   "cell_type": "markdown",
   "id": "55a8e5ae-a634-4a0d-8c35-583015cad528",
   "metadata": {},
   "source": [
    "## main"
   ]
  },
  {
   "cell_type": "markdown",
   "id": "0f6022f6-3fe2-4f5a-a7dc-a8d0442f67bf",
   "metadata": {},
   "source": [
    "### データセットを読み込む"
   ]
  },
  {
   "cell_type": "code",
   "execution_count": 4,
   "id": "1a1d53c5-4e59-4527-a0fc-f706090088ca",
   "metadata": {},
   "outputs": [],
   "source": [
    "dataset = get_dataset(dataset=dataset,dataset_kwargs={'create_inverse_triples':True})"
   ]
  },
  {
   "cell_type": "markdown",
   "id": "d1d2702d-2a2d-4eb8-956d-bfdef63f3c02",
   "metadata": {},
   "source": [
    "### 学習済みの知識グラフ埋め込みモデルを読み込む"
   ]
  },
  {
   "cell_type": "code",
   "execution_count": 5,
   "id": "a16ae6a8-7dac-4cc7-bdd0-6cd90667454c",
   "metadata": {},
   "outputs": [],
   "source": [
    "# embedding model\n",
    "kge_model = torch.load(f'{dir_model}/trained_model.pkl')"
   ]
  },
  {
   "cell_type": "code",
   "execution_count": 6,
   "id": "41d4c368-5bd2-426f-b2ec-337048f8a4a4",
   "metadata": {},
   "outputs": [],
   "source": [
    "## embeddign model information\n",
    "with open(f'{dir_model}/results.json') as fin:\n",
    "    dict_model_info = json.load(fin)"
   ]
  },
  {
   "cell_type": "markdown",
   "id": "05622477-d24e-4eb4-88c3-9defc528c2fa",
   "metadata": {},
   "source": [
    "### pykeenで計算されたhits@kの取得"
   ]
  },
  {
   "cell_type": "code",
   "execution_count": 48,
   "id": "ee853677-f9ae-420c-bd6f-43961bf0a86a",
   "metadata": {},
   "outputs": [
    {
     "data": {
      "text/html": [
       "<h4>both</h4><hr>"
      ],
      "text/plain": [
       "<IPython.core.display.HTML object>"
      ]
     },
     "metadata": {},
     "output_type": "display_data"
    },
    {
     "data": {
      "text/html": [
       "Hits@1: 0.13648595753009102"
      ],
      "text/plain": [
       "<IPython.core.display.HTML object>"
      ]
     },
     "metadata": {},
     "output_type": "display_data"
    },
    {
     "data": {
      "text/html": [
       "Hits@3: 0.2333643213621685"
      ],
      "text/plain": [
       "<IPython.core.display.HTML object>"
      ]
     },
     "metadata": {},
     "output_type": "display_data"
    },
    {
     "data": {
      "text/html": [
       "Hits@5: 0.2879684900675213"
      ],
      "text/plain": [
       "<IPython.core.display.HTML object>"
      ]
     },
     "metadata": {},
     "output_type": "display_data"
    },
    {
     "data": {
      "text/html": [
       "Hits@10: 0.3715383109893336"
      ],
      "text/plain": [
       "<IPython.core.display.HTML object>"
      ]
     },
     "metadata": {},
     "output_type": "display_data"
    }
   ],
   "source": [
    "for _type in ['both']:\n",
    "    display(HTML(f'<h4>{_type}</h4><hr>'))\n",
    "    for k in [1,3,5,10]:\n",
    "        val = dict_model_info['metrics'][_type]['realistic'][f'hits_at_{k}']\n",
    "        display(HTML(f'Hits@{k}: {val}'))"
   ]
  },
  {
   "cell_type": "markdown",
   "id": "cb88e1a9-1b7a-4a06-bb7a-bae418349e49",
   "metadata": {},
   "source": [
    "### 独自の実装でhits@kを計算"
   ]
  },
  {
   "cell_type": "code",
   "execution_count": 81,
   "id": "b1a253a4-f1f4-4bd6-92d5-6f806f02933b",
   "metadata": {},
   "outputs": [],
   "source": [
    "dict_vanilla_hits_at_k = vanilla_hits_at_k(kge_model, dataset.testing.mapped_triples)"
   ]
  },
  {
   "cell_type": "markdown",
   "id": "9baa9d09-22ef-45fd-af9d-665e2619baeb",
   "metadata": {},
   "source": [
    "### pykeenのRankBasedEvaluatorを使って計算\n",
    "\n",
    "↓下記に説明のある\"filtered setting\"を使っていることに注意．\n",
    "\n",
    "<blockquate>\n",
    "<p>The rank-based evaluation allows using the “filtered setting”, proposed by <a class=\"reference internal\" href=\"../references.html#bordes2013\" id=\"id1\"><span>[bordes2013]</span></a>, which is enabled by default.\n",
    "When evaluating the tail prediction for a triple <span class=\"math notranslate nohighlight\"><mjx-container class=\"MathJax CtxtMenu_Attached_0\" jax=\"CHTML\" tabindex=\"0\" ctxtmenu_counter=\"12\" style=\"font-size: 114.5%; position: relative;\"><mjx-math class=\"MJX-TEX\" aria-hidden=\"true\"><mjx-mo class=\"mjx-n\"><mjx-c class=\"mjx-c28\"></mjx-c></mjx-mo><mjx-mi class=\"mjx-i\"><mjx-c class=\"mjx-c210E TEX-I\"></mjx-c></mjx-mi><mjx-mo class=\"mjx-n\"><mjx-c class=\"mjx-c2C\"></mjx-c></mjx-mo><mjx-mi class=\"mjx-i\" space=\"2\"><mjx-c class=\"mjx-c1D45F TEX-I\"></mjx-c></mjx-mi><mjx-mo class=\"mjx-n\"><mjx-c class=\"mjx-c2C\"></mjx-c></mjx-mo><mjx-mi class=\"mjx-i\" space=\"2\"><mjx-c class=\"mjx-c1D461 TEX-I\"></mjx-c></mjx-mi><mjx-mo class=\"mjx-n\"><mjx-c class=\"mjx-c29\"></mjx-c></mjx-mo></mjx-math><mjx-assistive-mml unselectable=\"on\" display=\"inline\"><math xmlns=\"http://www.w3.org/1998/Math/MathML\"><mo stretchy=\"false\">(</mo><mi>h</mi><mo>,</mo><mi>r</mi><mo>,</mo><mi>t</mi><mo stretchy=\"false\">)</mo></math></mjx-assistive-mml></mjx-container></span>, i.e. scoring all triples <span class=\"math notranslate nohighlight\"><mjx-container class=\"MathJax CtxtMenu_Attached_0\" jax=\"CHTML\" tabindex=\"0\" ctxtmenu_counter=\"13\" style=\"font-size: 114.5%; position: relative;\"><mjx-math class=\"MJX-TEX\" aria-hidden=\"true\"><mjx-mo class=\"mjx-n\"><mjx-c class=\"mjx-c28\"></mjx-c></mjx-mo><mjx-mi class=\"mjx-i\"><mjx-c class=\"mjx-c210E TEX-I\"></mjx-c></mjx-mi><mjx-mo class=\"mjx-n\"><mjx-c class=\"mjx-c2C\"></mjx-c></mjx-mo><mjx-mi class=\"mjx-i\" space=\"2\"><mjx-c class=\"mjx-c1D45F TEX-I\"></mjx-c></mjx-mi><mjx-mo class=\"mjx-n\"><mjx-c class=\"mjx-c2C\"></mjx-c></mjx-mo><mjx-mi class=\"mjx-i\" space=\"2\"><mjx-c class=\"mjx-c1D452 TEX-I\"></mjx-c></mjx-mi><mjx-mo class=\"mjx-n\"><mjx-c class=\"mjx-c29\"></mjx-c></mjx-mo></mjx-math><mjx-assistive-mml unselectable=\"on\" display=\"inline\"><math xmlns=\"http://www.w3.org/1998/Math/MathML\"><mo stretchy=\"false\">(</mo><mi>h</mi><mo>,</mo><mi>r</mi><mo>,</mo><mi>e</mi><mo stretchy=\"false\">)</mo></math></mjx-assistive-mml></mjx-container></span>, there\n",
    "may be additional known triples <span class=\"math notranslate nohighlight\"><mjx-container class=\"MathJax CtxtMenu_Attached_0\" jax=\"CHTML\" tabindex=\"0\" ctxtmenu_counter=\"14\" style=\"font-size: 114.5%; position: relative;\"><mjx-math class=\"MJX-TEX\" aria-hidden=\"true\"><mjx-mo class=\"mjx-n\"><mjx-c class=\"mjx-c28\"></mjx-c></mjx-mo><mjx-mi class=\"mjx-i\"><mjx-c class=\"mjx-c210E TEX-I\"></mjx-c></mjx-mi><mjx-mo class=\"mjx-n\"><mjx-c class=\"mjx-c2C\"></mjx-c></mjx-mo><mjx-mi class=\"mjx-i\" space=\"2\"><mjx-c class=\"mjx-c1D45F TEX-I\"></mjx-c></mjx-mi><mjx-mo class=\"mjx-n\"><mjx-c class=\"mjx-c2C\"></mjx-c></mjx-mo><mjx-msup space=\"2\"><mjx-mi class=\"mjx-i\"><mjx-c class=\"mjx-c1D461 TEX-I\"></mjx-c></mjx-mi><mjx-script style=\"vertical-align: 0.363em;\"><mjx-mo class=\"mjx-var\" size=\"s\"><mjx-c class=\"mjx-c2032\"></mjx-c></mjx-mo></mjx-script></mjx-msup><mjx-mo class=\"mjx-n\"><mjx-c class=\"mjx-c29\"></mjx-c></mjx-mo></mjx-math><mjx-assistive-mml unselectable=\"on\" display=\"inline\"><math xmlns=\"http://www.w3.org/1998/Math/MathML\"><mo stretchy=\"false\">(</mo><mi>h</mi><mo>,</mo><mi>r</mi><mo>,</mo><msup><mi>t</mi><mo data-mjx-alternate=\"1\">′</mo></msup><mo stretchy=\"false\">)</mo></math></mjx-assistive-mml></mjx-container></span> for <span class=\"math notranslate nohighlight\"><mjx-container class=\"MathJax CtxtMenu_Attached_0\" jax=\"CHTML\" tabindex=\"0\" ctxtmenu_counter=\"15\" style=\"font-size: 114.5%; position: relative;\"><mjx-math class=\"MJX-TEX\" aria-hidden=\"true\"><mjx-mi class=\"mjx-i\"><mjx-c class=\"mjx-c1D461 TEX-I\"></mjx-c></mjx-mi><mjx-mo class=\"mjx-n\" space=\"4\"><mjx-c class=\"mjx-c2260\"></mjx-c></mjx-mo><mjx-msup space=\"4\"><mjx-mi class=\"mjx-i\"><mjx-c class=\"mjx-c1D461 TEX-I\"></mjx-c></mjx-mi><mjx-script style=\"vertical-align: 0.363em;\"><mjx-mo class=\"mjx-var\" size=\"s\"><mjx-c class=\"mjx-c2032\"></mjx-c></mjx-mo></mjx-script></mjx-msup></mjx-math><mjx-assistive-mml unselectable=\"on\" display=\"inline\"><math xmlns=\"http://www.w3.org/1998/Math/MathML\"><mi>t</mi><mo>≠</mo><msup><mi>t</mi><mo data-mjx-alternate=\"1\">′</mo></msup></math></mjx-assistive-mml></mjx-container></span>. If the model predicts a higher score for\n",
    "<span class=\"math notranslate nohighlight\"><mjx-container class=\"MathJax CtxtMenu_Attached_0\" jax=\"CHTML\" tabindex=\"0\" ctxtmenu_counter=\"16\" style=\"font-size: 114.5%; position: relative;\"><mjx-math class=\"MJX-TEX\" aria-hidden=\"true\"><mjx-mo class=\"mjx-n\"><mjx-c class=\"mjx-c28\"></mjx-c></mjx-mo><mjx-mi class=\"mjx-i\"><mjx-c class=\"mjx-c210E TEX-I\"></mjx-c></mjx-mi><mjx-mo class=\"mjx-n\"><mjx-c class=\"mjx-c2C\"></mjx-c></mjx-mo><mjx-mi class=\"mjx-i\" space=\"2\"><mjx-c class=\"mjx-c1D45F TEX-I\"></mjx-c></mjx-mi><mjx-mo class=\"mjx-n\"><mjx-c class=\"mjx-c2C\"></mjx-c></mjx-mo><mjx-msup space=\"2\"><mjx-mi class=\"mjx-i\"><mjx-c class=\"mjx-c1D461 TEX-I\"></mjx-c></mjx-mi><mjx-script style=\"vertical-align: 0.363em;\"><mjx-mo class=\"mjx-var\" size=\"s\"><mjx-c class=\"mjx-c2032\"></mjx-c></mjx-mo></mjx-script></mjx-msup><mjx-mo class=\"mjx-n\"><mjx-c class=\"mjx-c29\"></mjx-c></mjx-mo></mjx-math><mjx-assistive-mml unselectable=\"on\" display=\"inline\"><math xmlns=\"http://www.w3.org/1998/Math/MathML\"><mo stretchy=\"false\">(</mo><mi>h</mi><mo>,</mo><mi>r</mi><mo>,</mo><msup><mi>t</mi><mo data-mjx-alternate=\"1\">′</mo></msup><mo stretchy=\"false\">)</mo></math></mjx-assistive-mml></mjx-container></span>, the rank will increase, and hence the measured model performance will decrease. However, giving\n",
    "<span class=\"math notranslate nohighlight\"><mjx-container class=\"MathJax CtxtMenu_Attached_0\" jax=\"CHTML\" tabindex=\"0\" ctxtmenu_counter=\"17\" style=\"font-size: 114.5%; position: relative;\"><mjx-math class=\"MJX-TEX\" aria-hidden=\"true\"><mjx-mo class=\"mjx-n\"><mjx-c class=\"mjx-c28\"></mjx-c></mjx-mo><mjx-mi class=\"mjx-i\"><mjx-c class=\"mjx-c210E TEX-I\"></mjx-c></mjx-mi><mjx-mo class=\"mjx-n\"><mjx-c class=\"mjx-c2C\"></mjx-c></mjx-mo><mjx-mi class=\"mjx-i\" space=\"2\"><mjx-c class=\"mjx-c1D45F TEX-I\"></mjx-c></mjx-mi><mjx-mo class=\"mjx-n\"><mjx-c class=\"mjx-c2C\"></mjx-c></mjx-mo><mjx-msup space=\"2\"><mjx-mi class=\"mjx-i\"><mjx-c class=\"mjx-c1D461 TEX-I\"></mjx-c></mjx-mi><mjx-script style=\"vertical-align: 0.363em;\"><mjx-mo class=\"mjx-var\" size=\"s\"><mjx-c class=\"mjx-c2032\"></mjx-c></mjx-mo></mjx-script></mjx-msup><mjx-mo class=\"mjx-n\"><mjx-c class=\"mjx-c29\"></mjx-c></mjx-mo></mjx-math><mjx-assistive-mml unselectable=\"on\" display=\"inline\"><math xmlns=\"http://www.w3.org/1998/Math/MathML\"><mo stretchy=\"false\">(</mo><mi>h</mi><mo>,</mo><mi>r</mi><mo>,</mo><msup><mi>t</mi><mo data-mjx-alternate=\"1\">′</mo></msup><mo stretchy=\"false\">)</mo></math></mjx-assistive-mml></mjx-container></span> a high score (and thus a low rank) is desirable since it is a true triple as well. Thus, the\n",
    "filtered evaluation setting ignores for a given triple <span class=\"math notranslate nohighlight\"><mjx-container class=\"MathJax CtxtMenu_Attached_0\" jax=\"CHTML\" tabindex=\"0\" ctxtmenu_counter=\"18\" style=\"font-size: 114.5%; position: relative;\"><mjx-math class=\"MJX-TEX\" aria-hidden=\"true\"><mjx-mo class=\"mjx-n\"><mjx-c class=\"mjx-c28\"></mjx-c></mjx-mo><mjx-mi class=\"mjx-i\"><mjx-c class=\"mjx-c210E TEX-I\"></mjx-c></mjx-mi><mjx-mo class=\"mjx-n\"><mjx-c class=\"mjx-c2C\"></mjx-c></mjx-mo><mjx-mi class=\"mjx-i\" space=\"2\"><mjx-c class=\"mjx-c1D45F TEX-I\"></mjx-c></mjx-mi><mjx-mo class=\"mjx-n\"><mjx-c class=\"mjx-c2C\"></mjx-c></mjx-mo><mjx-mi class=\"mjx-i\" space=\"2\"><mjx-c class=\"mjx-c1D461 TEX-I\"></mjx-c></mjx-mi><mjx-mo class=\"mjx-n\"><mjx-c class=\"mjx-c29\"></mjx-c></mjx-mo></mjx-math><mjx-assistive-mml unselectable=\"on\" display=\"inline\"><math xmlns=\"http://www.w3.org/1998/Math/MathML\"><mo stretchy=\"false\">(</mo><mi>h</mi><mo>,</mo><mi>r</mi><mo>,</mo><mi>t</mi><mo stretchy=\"false\">)</mo></math></mjx-assistive-mml></mjx-container></span> the scores of all other <em>known</em> true triples\n",
    "<span class=\"math notranslate nohighlight\"><mjx-container class=\"MathJax CtxtMenu_Attached_0\" jax=\"CHTML\" tabindex=\"0\" ctxtmenu_counter=\"19\" style=\"font-size: 114.5%; position: relative;\"><mjx-math class=\"MJX-TEX\" aria-hidden=\"true\"><mjx-mo class=\"mjx-n\"><mjx-c class=\"mjx-c28\"></mjx-c></mjx-mo><mjx-mi class=\"mjx-i\"><mjx-c class=\"mjx-c210E TEX-I\"></mjx-c></mjx-mi><mjx-mo class=\"mjx-n\"><mjx-c class=\"mjx-c2C\"></mjx-c></mjx-mo><mjx-mi class=\"mjx-i\" space=\"2\"><mjx-c class=\"mjx-c1D45F TEX-I\"></mjx-c></mjx-mi><mjx-mo class=\"mjx-n\"><mjx-c class=\"mjx-c2C\"></mjx-c></mjx-mo><mjx-msup space=\"2\"><mjx-mi class=\"mjx-i\"><mjx-c class=\"mjx-c1D461 TEX-I\"></mjx-c></mjx-mi><mjx-script style=\"vertical-align: 0.363em;\"><mjx-mo class=\"mjx-var\" size=\"s\"><mjx-c class=\"mjx-c2032\"></mjx-c></mjx-mo></mjx-script></mjx-msup><mjx-mo class=\"mjx-n\"><mjx-c class=\"mjx-c29\"></mjx-c></mjx-mo></mjx-math><mjx-assistive-mml unselectable=\"on\" display=\"inline\"><math xmlns=\"http://www.w3.org/1998/Math/MathML\"><mo stretchy=\"false\">(</mo><mi>h</mi><mo>,</mo><mi>r</mi><mo>,</mo><msup><mi>t</mi><mo data-mjx-alternate=\"1\">′</mo></msup><mo stretchy=\"false\">)</mo></math></mjx-assistive-mml></mjx-container></span>.</p>\n",
    "</blockquate>\n",
    "\n",
    "[ドキュメンテーション](https://pykeen.readthedocs.io/en/stable/api/pykeen.evaluation.RankBasedEvaluator.html)"
   ]
  },
  {
   "cell_type": "code",
   "execution_count": 70,
   "id": "4e4eddd4-08c1-4a67-b266-26512a71ef2e",
   "metadata": {},
   "outputs": [],
   "source": [
    "evaluator = RankBasedEvaluator(filtered=True, metrics=['hits@k'])"
   ]
  },
  {
   "cell_type": "code",
   "execution_count": 85,
   "id": "c13506cd-9f36-42ea-bd02-3bbfb022bd1b",
   "metadata": {},
   "outputs": [],
   "source": [
    "dict_pykeen_hits_at_k = {}"
   ]
  },
  {
   "cell_type": "markdown",
   "id": "067aab1d-b2ef-4fbf-88b1-8081aec5660f",
   "metadata": {},
   "source": [
    "#### filter無"
   ]
  },
  {
   "cell_type": "code",
   "execution_count": 86,
   "id": "9361e3b2-a8e9-414c-b10b-00222d163424",
   "metadata": {},
   "outputs": [],
   "source": [
    "%%capture --no-stderr\n",
    "results = evaluator.evaluate(kge_model, dataset.testing.mapped_triples, \n",
    "                             additional_filter_triples=[dataset.training.mapped_triples])"
   ]
  },
  {
   "cell_type": "code",
   "execution_count": 87,
   "id": "8f1c9c6e-df1b-436a-b467-8ed8e24a60e4",
   "metadata": {},
   "outputs": [],
   "source": [
    "dict_pykeen_hits_at_k['self-filtered'] = {k:results.get_metric(f'hits_at_{k}') for k in [1,3,5,10]}"
   ]
  },
  {
   "cell_type": "markdown",
   "id": "8c7d03e1-2f88-45e3-92bc-de5afbc8652a",
   "metadata": {},
   "source": [
    "#### filter有"
   ]
  },
  {
   "cell_type": "code",
   "execution_count": 88,
   "id": "a8baa7a7-b6de-4ed6-b16f-79b09e7db7c4",
   "metadata": {},
   "outputs": [],
   "source": [
    "%%capture --no-stderr\n",
    "results = evaluator.evaluate(kge_model, triples, additional_filter_triples=[dataset.training.mapped_triples, dataset.validation.mapped_triples])"
   ]
  },
  {
   "cell_type": "code",
   "execution_count": 89,
   "id": "92a7395f-00f6-4a75-b03f-ce304f79cf4c",
   "metadata": {},
   "outputs": [],
   "source": [
    "dict_pykeen_hits_at_k['filtered'] = {k:results.get_metric(f'hits_at_{k}') for k in [1,3,5,10]}"
   ]
  },
  {
   "cell_type": "markdown",
   "id": "21f4cf24-a952-40bb-9786-685b2cf8fce6",
   "metadata": {},
   "source": [
    "### 計算結果"
   ]
  },
  {
   "cell_type": "markdown",
   "id": "61dd0310-f21d-4e56-b4c2-58e0573a33e8",
   "metadata": {},
   "source": [
    "**モデル学習時に計算されたhits@k**"
   ]
  },
  {
   "cell_type": "code",
   "execution_count": 80,
   "id": "c72c1415-b628-416b-9bb6-3ed6faa973ca",
   "metadata": {},
   "outputs": [
    {
     "data": {
      "text/html": [
       "Hits@1: 0.13648595753009102"
      ],
      "text/plain": [
       "<IPython.core.display.HTML object>"
      ]
     },
     "metadata": {},
     "output_type": "display_data"
    },
    {
     "data": {
      "text/html": [
       "Hits@3: 0.2333643213621685"
      ],
      "text/plain": [
       "<IPython.core.display.HTML object>"
      ]
     },
     "metadata": {},
     "output_type": "display_data"
    },
    {
     "data": {
      "text/html": [
       "Hits@5: 0.2879684900675213"
      ],
      "text/plain": [
       "<IPython.core.display.HTML object>"
      ]
     },
     "metadata": {},
     "output_type": "display_data"
    },
    {
     "data": {
      "text/html": [
       "Hits@10: 0.3715383109893336"
      ],
      "text/plain": [
       "<IPython.core.display.HTML object>"
      ]
     },
     "metadata": {},
     "output_type": "display_data"
    }
   ],
   "source": [
    "for k in [1,3,5,10]:\n",
    "    val = dict_model_info['metrics']['both']['realistic'][f'hits_at_{k}']\n",
    "    display(HTML(f'Hits@{k}: {val}'))"
   ]
  },
  {
   "cell_type": "markdown",
   "id": "07dc0f39-81b0-47cb-9838-bc673a8b705e",
   "metadata": {},
   "source": [
    "**filter無（独自実装）**"
   ]
  },
  {
   "cell_type": "code",
   "execution_count": 82,
   "id": "163c715d-fa82-410f-aa25-9507688a3d6e",
   "metadata": {},
   "outputs": [
    {
     "data": {
      "text/html": [
       "Hits@1: 0.09408944123691164"
      ],
      "text/plain": [
       "<IPython.core.display.HTML object>"
      ]
     },
     "metadata": {},
     "output_type": "display_data"
    },
    {
     "data": {
      "text/html": [
       "Hits@3: 0.16435071924845876"
      ],
      "text/plain": [
       "<IPython.core.display.HTML object>"
      ]
     },
     "metadata": {},
     "output_type": "display_data"
    },
    {
     "data": {
      "text/html": [
       "Hits@5: 0.2079949114394755"
      ],
      "text/plain": [
       "<IPython.core.display.HTML object>"
      ]
     },
     "metadata": {},
     "output_type": "display_data"
    },
    {
     "data": {
      "text/html": [
       "Hits@10: 0.28385849887464526"
      ],
      "text/plain": [
       "<IPython.core.display.HTML object>"
      ]
     },
     "metadata": {},
     "output_type": "display_data"
    }
   ],
   "source": [
    "for k, val in dict_vanilla_hits_at_k.items():\n",
    "    display(HTML(f'Hits@{k}: {val}'))"
   ]
  },
  {
   "cell_type": "markdown",
   "id": "4d8aea9a-7217-45cd-9410-3b632422a026",
   "metadata": {},
   "source": [
    "**filter有（テストデータのみ）**  \n",
    "filter無の場合よりも良い評価になる"
   ]
  },
  {
   "cell_type": "code",
   "execution_count": 90,
   "id": "14defcc1-ee03-4af2-b86a-521995220d3c",
   "metadata": {},
   "outputs": [
    {
     "data": {
      "text/html": [
       "Hits@1: 0.12442509051766318"
      ],
      "text/plain": [
       "<IPython.core.display.HTML object>"
      ]
     },
     "metadata": {},
     "output_type": "display_data"
    },
    {
     "data": {
      "text/html": [
       "Hits@3: 0.21900381642039338"
      ],
      "text/plain": [
       "<IPython.core.display.HTML object>"
      ]
     },
     "metadata": {},
     "output_type": "display_data"
    },
    {
     "data": {
      "text/html": [
       "Hits@5: 0.27336334279283686"
      ],
      "text/plain": [
       "<IPython.core.display.HTML object>"
      ]
     },
     "metadata": {},
     "output_type": "display_data"
    },
    {
     "data": {
      "text/html": [
       "Hits@10: 0.35610137978275763"
      ],
      "text/plain": [
       "<IPython.core.display.HTML object>"
      ]
     },
     "metadata": {},
     "output_type": "display_data"
    }
   ],
   "source": [
    "for k, val in dict_pykeen_hits_at_k['self-filtered'].items():\n",
    "    display(HTML(f'Hits@{k}: {val}'))"
   ]
  },
  {
   "cell_type": "markdown",
   "id": "6dda976f-de07-4af1-a031-4fdaeb985546",
   "metadata": {},
   "source": [
    "**filer有（教師データ，テストデータ，検証データ）**  \n",
    "- モデル学習時に計算されるものと一致する.\n",
    "- モデル学習時に計算されるHits@kはテストデータを対象に，自身に加え，教師データ，検証データでfilterをしたものが計算されていると考えられる．\n",
    "- 基本的に，filterするとHits@kの精度は向上する． "
   ]
  },
  {
   "cell_type": "code",
   "execution_count": 91,
   "id": "771e0969-527a-4e99-a4d4-4944d74ddb97",
   "metadata": {},
   "outputs": [
    {
     "data": {
      "text/html": [
       "Hits@1: 0.13648595753009102"
      ],
      "text/plain": [
       "<IPython.core.display.HTML object>"
      ]
     },
     "metadata": {},
     "output_type": "display_data"
    },
    {
     "data": {
      "text/html": [
       "Hits@3: 0.2333643213621685"
      ],
      "text/plain": [
       "<IPython.core.display.HTML object>"
      ]
     },
     "metadata": {},
     "output_type": "display_data"
    },
    {
     "data": {
      "text/html": [
       "Hits@5: 0.2879684900675213"
      ],
      "text/plain": [
       "<IPython.core.display.HTML object>"
      ]
     },
     "metadata": {},
     "output_type": "display_data"
    },
    {
     "data": {
      "text/html": [
       "Hits@10: 0.3715383109893336"
      ],
      "text/plain": [
       "<IPython.core.display.HTML object>"
      ]
     },
     "metadata": {},
     "output_type": "display_data"
    }
   ],
   "source": [
    "for k, val in dict_pykeen_hits_at_k['filtered'].items():\n",
    "    display(HTML(f'Hits@{k}: {val}'))"
   ]
  }
 ],
 "metadata": {
  "kernelspec": {
   "display_name": "Python 3 (ipykernel)",
   "language": "python",
   "name": "python3"
  },
  "language_info": {
   "codemirror_mode": {
    "name": "ipython",
    "version": 3
   },
   "file_extension": ".py",
   "mimetype": "text/x-python",
   "name": "python",
   "nbconvert_exporter": "python",
   "pygments_lexer": "ipython3",
   "version": "3.10.14"
  }
 },
 "nbformat": 4,
 "nbformat_minor": 5
}
