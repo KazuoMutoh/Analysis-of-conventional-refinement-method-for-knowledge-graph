{
 "cells": [
  {
   "cell_type": "markdown",
   "id": "fdfaf035-224f-47c7-a250-6860d92f04c4",
   "metadata": {},
   "source": [
    "# Calculate loss score of false triples "
   ]
  },
  {
   "cell_type": "markdown",
   "id": "22d629e0-fcee-47e1-b9c4-45f86bd4065f",
   "metadata": {},
   "source": [
    "## modules"
   ]
  },
  {
   "cell_type": "code",
   "execution_count": 1,
   "id": "08c3976e-9892-40d0-9114-ca8dfba87b12",
   "metadata": {},
   "outputs": [
    {
     "name": "stderr",
     "output_type": "stream",
     "text": [
      "/home/acg16558pn/kg_20240423/lib/python3.10/site-packages/pykeen/evaluation/evaluator.py:16: TqdmExperimentalWarning: Using `tqdm.autonotebook.tqdm` in notebook mode. Use `tqdm.tqdm` instead to force console mode (e.g. in jupyter console)\n",
      "  from tqdm.autonotebook import tqdm\n"
     ]
    }
   ],
   "source": [
    "import torch\n",
    "import json\n",
    "import pylab as plt\n",
    "import pandas as pd\n",
    "from sources.evaluation import vanilla_hits_at_k\n",
    "from IPython.display import display, HTML\n",
    "from pykeen.datasets import get_dataset\n",
    "from util.databinder import DataBinder\n",
    "from pykeen.evaluation import RankBasedEvaluator\n",
    "from sklearn.metrics import precision_recall_curve, auc\n",
    "import warnings\n",
    "warnings.filterwarnings('ignore')"
   ]
  },
  {
   "cell_type": "markdown",
   "id": "f488a48f-ce20-4521-a03c-c88b9b357ace",
   "metadata": {},
   "source": [
    "## parameters"
   ]
  },
  {
   "cell_type": "code",
   "execution_count": 2,
   "id": "eaa2920b-623d-4625-a960-352775c5eb01",
   "metadata": {},
   "outputs": [],
   "source": [
    "# directory for trained model\n",
    "# ----------------------------------------------------------------\n",
    "#dir_model = './models/20240606/wn18rr_transe/'\n",
    "dir_model = './models/20240606/kinships_transe/'\n",
    "#dir_model = './models/20240628_distmultliteral/model_without_lit'\n",
    "#dir_model = './models/20240606/fb15k237_transe_no_option'\n",
    "\n",
    "# name of dataset\n",
    "# ----------------------------------------------------------------\n",
    "dataset_name = 'kinships'\n",
    "\n",
    "# directory for false triples\n",
    "dir_false_triples = './data/processed/20240725_false_kinships'\n",
    "#dir_false_triples = './data/processed/20240725_false_fb15k237'\n",
    "#dir_false_triples = './data/processed/20240725_false_wn18rr'\n",
    "\n",
    "# direcory for report\n",
    "# ----------------------------------------------------------------\n",
    "dir_report = './reports/20240725/kinships_transe_false_triple_analysis'"
   ]
  },
  {
   "cell_type": "markdown",
   "id": "563bc765-11ef-420a-b6d8-cad730be5570",
   "metadata": {},
   "source": [
    "## main"
   ]
  },
  {
   "cell_type": "code",
   "execution_count": 3,
   "id": "52e97cbe-2a8c-4edd-89e7-19558be981b1",
   "metadata": {},
   "outputs": [
    {
     "name": "stderr",
     "output_type": "stream",
     "text": [
      "INFO:pykeen.datasets.utils:Loading cached preprocessed dataset from file:///home/acg16558pn/.data/pykeen/datasets/kinships/cache/47DEQpj8HBSa-_TImW-5JCeuQeRkm5NM\n",
      "INFO:pykeen.triples.triples_factory:Loading from file:///home/acg16558pn/.data/pykeen/datasets/kinships/cache/47DEQpj8HBSa-_TImW-5JCeuQeRkm5NM/training\n",
      "INFO:pykeen.triples.triples_factory:Loading from file:///home/acg16558pn/.data/pykeen/datasets/kinships/cache/47DEQpj8HBSa-_TImW-5JCeuQeRkm5NM/testing\n",
      "INFO:pykeen.triples.triples_factory:Loading from file:///home/acg16558pn/.data/pykeen/datasets/kinships/cache/47DEQpj8HBSa-_TImW-5JCeuQeRkm5NM/validation\n"
     ]
    }
   ],
   "source": [
    "dataset = get_dataset(dataset=dataset_name, dataset_kwargs={'create_inverse_triples':True})"
   ]
  },
  {
   "cell_type": "markdown",
   "id": "a781a180-06b4-4459-bd8a-650c2f5b2de7",
   "metadata": {},
   "source": [
    "### false triples"
   ]
  },
  {
   "cell_type": "code",
   "execution_count": 4,
   "id": "12cfcc00-c54d-454c-ab67-d86ada57f59f",
   "metadata": {},
   "outputs": [
    {
     "name": "stderr",
     "output_type": "stream",
     "text": [
      "INFO:root:Loaded info from ./data/processed/20240725_false_kinships/info.json\n"
     ]
    }
   ],
   "source": [
    "db_false_triples = DataBinder(target_dir=dir_false_triples)\n",
    "list_random_seed = db_false_triples.get('list_random_seed')\n",
    "dict_false_triples = {}\n",
    "for random_seed in list_random_seed:\n",
    "    i = int(random_seed)\n",
    "    dict_false_triples[i] = {}\n",
    "    dict_false_triples[i]['tf'] = db_false_triples.get(f'tf_{random_seed}')\n",
    "    dict_false_triples[i]['tt'] = db_false_triples.get(f'tt_{random_seed}')\n",
    "    dict_false_triples[i]['df_feature'] = db_false_triples.get(f'df_tt_tf_features_{random_seed}')"
   ]
  },
  {
   "cell_type": "markdown",
   "id": "f63e0cc2-899a-44a9-b9a8-2baad216317c",
   "metadata": {},
   "source": [
    "### knowledge graph embeddign model"
   ]
  },
  {
   "cell_type": "code",
   "execution_count": 5,
   "id": "37d691ea-e92c-49d0-af20-91bceeb84ca0",
   "metadata": {},
   "outputs": [],
   "source": [
    "# embedding model\n",
    "kge_model = torch.load(f'{dir_model}/trained_model.pkl')"
   ]
  },
  {
   "cell_type": "code",
   "execution_count": 6,
   "id": "114475ea-5814-43e0-98e7-bf1eab9141b8",
   "metadata": {},
   "outputs": [],
   "source": [
    "## embeddign model information\n",
    "with open(f'{dir_model}/results.json') as fin:\n",
    "    dict_model_info = json.load(fin)"
   ]
  },
  {
   "cell_type": "markdown",
   "id": "f8baeee2-2baa-457b-b023-79614a0428dd",
   "metadata": {},
   "source": [
    "### Hits@k of the knowledge graph embedding model (calculated by pykeen)"
   ]
  },
  {
   "cell_type": "code",
   "execution_count": 7,
   "id": "5658a276-a0ae-41a1-b9e9-d06830a0c18f",
   "metadata": {},
   "outputs": [],
   "source": [
    "dict_data = {}\n",
    "for i in [1,3,5,10]:\n",
    "    dict_data[i] = dict_model_info['metrics']['both']['realistic'][f'hits_at_{i}']"
   ]
  },
  {
   "cell_type": "code",
   "execution_count": 8,
   "id": "0cc4b84b-e05f-415f-9437-28d5f3bde12f",
   "metadata": {},
   "outputs": [],
   "source": [
    "sr_hits_at_k = pd.Series(dict_data, name='hits@k')\n",
    "sr_hits_at_k.index.name = 'k'"
   ]
  },
  {
   "cell_type": "code",
   "execution_count": 9,
   "id": "0f71fe31-abb1-4a2a-b232-4de4033c8304",
   "metadata": {},
   "outputs": [
    {
     "data": {
      "text/html": [
       "<div>\n",
       "<style scoped>\n",
       "    .dataframe tbody tr th:only-of-type {\n",
       "        vertical-align: middle;\n",
       "    }\n",
       "\n",
       "    .dataframe tbody tr th {\n",
       "        vertical-align: top;\n",
       "    }\n",
       "\n",
       "    .dataframe thead th {\n",
       "        text-align: right;\n",
       "    }\n",
       "</style>\n",
       "<table border=\"1\" class=\"dataframe\">\n",
       "  <thead>\n",
       "    <tr style=\"text-align: right;\">\n",
       "      <th>k</th>\n",
       "      <th>1</th>\n",
       "      <th>3</th>\n",
       "      <th>5</th>\n",
       "      <th>10</th>\n",
       "    </tr>\n",
       "  </thead>\n",
       "  <tbody>\n",
       "    <tr>\n",
       "      <th>hits@k</th>\n",
       "      <td>0.068436</td>\n",
       "      <td>0.283985</td>\n",
       "      <td>0.410149</td>\n",
       "      <td>0.587058</td>\n",
       "    </tr>\n",
       "  </tbody>\n",
       "</table>\n",
       "</div>"
      ],
      "text/plain": [
       "k             1         3         5         10\n",
       "hits@k  0.068436  0.283985  0.410149  0.587058"
      ]
     },
     "execution_count": 9,
     "metadata": {},
     "output_type": "execute_result"
    }
   ],
   "source": [
    "sr_hits_at_k.to_frame().T"
   ]
  },
  {
   "cell_type": "markdown",
   "id": "18842716-64f4-4df7-b312-dfa676b21ca0",
   "metadata": {},
   "source": [
    "### Median rank of knoweldge  graph embeddign model (calculated by pykeen)"
   ]
  },
  {
   "cell_type": "code",
   "execution_count": 10,
   "id": "8e668ad3-99cc-4b8c-b383-4134f2c9507a",
   "metadata": {},
   "outputs": [],
   "source": [
    "mr = dict_model_info['metrics']['both']['realistic']['median_rank']"
   ]
  },
  {
   "cell_type": "code",
   "execution_count": 11,
   "id": "cc782282-a76d-4072-a353-fb10be88b6e2",
   "metadata": {},
   "outputs": [
    {
     "name": "stdout",
     "output_type": "stream",
     "text": [
      "8.0\n"
     ]
    }
   ],
   "source": [
    "print(mr)"
   ]
  },
  {
   "cell_type": "markdown",
   "id": "6e076eaf-3abc-4919-86a4-a1aca2d62872",
   "metadata": {},
   "source": [
    "### Hits@k of knowledge graph embeddign model (calculated by homemade function)"
   ]
  },
  {
   "cell_type": "code",
   "execution_count": 12,
   "id": "b6561295-0d79-41fa-bd32-b4713fa2cdc3",
   "metadata": {},
   "outputs": [],
   "source": [
    "dict_data = vanilla_hits_at_k(kge_model, dataset.testing.mapped_triples, )"
   ]
  },
  {
   "cell_type": "code",
   "execution_count": 13,
   "id": "e539dcea-0834-41ff-a62b-12aa06d95ade",
   "metadata": {},
   "outputs": [],
   "source": [
    "sr_vhits_at_k = pd.Series(dict_data, name='hits@k')\n",
    "sr_vhits_at_k.index.name = 'k'"
   ]
  },
  {
   "cell_type": "code",
   "execution_count": 14,
   "id": "6a07a5ee-ce8d-4476-a3cc-2edbc467ef1b",
   "metadata": {},
   "outputs": [
    {
     "data": {
      "text/html": [
       "<div>\n",
       "<style scoped>\n",
       "    .dataframe tbody tr th:only-of-type {\n",
       "        vertical-align: middle;\n",
       "    }\n",
       "\n",
       "    .dataframe tbody tr th {\n",
       "        vertical-align: top;\n",
       "    }\n",
       "\n",
       "    .dataframe thead th {\n",
       "        text-align: right;\n",
       "    }\n",
       "</style>\n",
       "<table border=\"1\" class=\"dataframe\">\n",
       "  <thead>\n",
       "    <tr style=\"text-align: right;\">\n",
       "      <th>k</th>\n",
       "      <th>1</th>\n",
       "      <th>3</th>\n",
       "      <th>5</th>\n",
       "      <th>10</th>\n",
       "    </tr>\n",
       "  </thead>\n",
       "  <tbody>\n",
       "    <tr>\n",
       "      <th>hits@k</th>\n",
       "      <td>0.021881</td>\n",
       "      <td>0.107542</td>\n",
       "      <td>0.201583</td>\n",
       "      <td>0.406425</td>\n",
       "    </tr>\n",
       "  </tbody>\n",
       "</table>\n",
       "</div>"
      ],
      "text/plain": [
       "k             1         3         5         10\n",
       "hits@k  0.021881  0.107542  0.201583  0.406425"
      ]
     },
     "execution_count": 14,
     "metadata": {},
     "output_type": "execute_result"
    }
   ],
   "source": [
    "sr_vhits_at_k.to_frame().T"
   ]
  },
  {
   "cell_type": "markdown",
   "id": "824288d0-ed4a-4809-ba76-53a3173ac0f5",
   "metadata": {},
   "source": [
    "### Calculate score and true nagative ratio"
   ]
  },
  {
   "cell_type": "code",
   "execution_count": 15,
   "id": "0bafbd29-8f84-4df8-a3a1-0086b5a17f60",
   "metadata": {},
   "outputs": [],
   "source": [
    "for random_seed in dict_false_triples.keys():\n",
    "    \n",
    "    tf = dict_false_triples[random_seed]['tf']\n",
    "    tt = dict_false_triples[random_seed]['tt']\n",
    "    df_feature = dict_false_triples[random_seed]['df_feature']\n",
    "\n",
    "    score_tf = kge_model.score_hrt(tf.mapped_triples).cpu().detach().numpy()\n",
    "    df_feature['score'] = score_tf\n",
    "\n",
    "    score_tt = kge_model.score_hrt(tt.mapped_triples).cpu().detach().numpy()\n",
    "    df_feature['score(org)'] = score_tt\n",
    "\n",
    "    dict_false_triples[random_seed]['true_negative_ratio'] = {}\n",
    "    n = len(df_feature)\n",
    "    df_sorted_feature = df_feature.sort_values('score')\n",
    "    for k in [0.01, 0.03, 0.05]:\n",
    "        n_top = int(n*k)\n",
    "        df = df_sorted_feature.head(n_top)\n",
    "        threashold = df['score'].max()\n",
    "        tn = len(df[df['is-error']==True])\n",
    "        fp = len(df[df['is-error']==False])\n",
    "        tnr = tn/(fp+tn)\n",
    "\n",
    "        dict_false_triples[random_seed]['true_negative_ratio'][k] = {}\n",
    "        dict_false_triples[random_seed]['true_negative_ratio'][k]['value'] = tnr\n",
    "        dict_false_triples[random_seed]['true_negative_ratio'][k]['threashold'] = threashold"
   ]
  },
  {
   "cell_type": "markdown",
   "id": "4b30cbbb-baa7-4e10-8c3a-e27565d0cc83",
   "metadata": {},
   "source": [
    "### Display Results"
   ]
  },
  {
   "cell_type": "code",
   "execution_count": 16,
   "id": "4ea39fd8-bf4f-4a61-bd34-75df7bf9b630",
   "metadata": {},
   "outputs": [
    {
     "data": {
      "text/html": [
       "<h2>Data Set: kinships</h2>"
      ],
      "text/plain": [
       "<IPython.core.display.HTML object>"
      ]
     },
     "metadata": {},
     "output_type": "display_data"
    },
    {
     "data": {
      "text/html": [
       "<h3>Hits@K</h3>"
      ],
      "text/plain": [
       "<IPython.core.display.HTML object>"
      ]
     },
     "metadata": {},
     "output_type": "display_data"
    },
    {
     "data": {
      "text/html": [
       "<h4>Vanilla</h4>"
      ],
      "text/plain": [
       "<IPython.core.display.HTML object>"
      ]
     },
     "metadata": {},
     "output_type": "display_data"
    },
    {
     "data": {
      "text/html": [
       "<div>\n",
       "<style scoped>\n",
       "    .dataframe tbody tr th:only-of-type {\n",
       "        vertical-align: middle;\n",
       "    }\n",
       "\n",
       "    .dataframe tbody tr th {\n",
       "        vertical-align: top;\n",
       "    }\n",
       "\n",
       "    .dataframe thead th {\n",
       "        text-align: right;\n",
       "    }\n",
       "</style>\n",
       "<table border=\"1\" class=\"dataframe\">\n",
       "  <thead>\n",
       "    <tr style=\"text-align: right;\">\n",
       "      <th>k</th>\n",
       "      <th>1</th>\n",
       "      <th>3</th>\n",
       "      <th>5</th>\n",
       "      <th>10</th>\n",
       "    </tr>\n",
       "  </thead>\n",
       "  <tbody>\n",
       "    <tr>\n",
       "      <th>hits@k</th>\n",
       "      <td>0.021881</td>\n",
       "      <td>0.107542</td>\n",
       "      <td>0.201583</td>\n",
       "      <td>0.406425</td>\n",
       "    </tr>\n",
       "  </tbody>\n",
       "</table>\n",
       "</div>"
      ],
      "text/plain": [
       "k             1         3         5         10\n",
       "hits@k  0.021881  0.107542  0.201583  0.406425"
      ]
     },
     "metadata": {},
     "output_type": "display_data"
    },
    {
     "data": {
      "text/html": [
       "<h4>Filtered</h4>"
      ],
      "text/plain": [
       "<IPython.core.display.HTML object>"
      ]
     },
     "metadata": {},
     "output_type": "display_data"
    },
    {
     "data": {
      "text/html": [
       "<div>\n",
       "<style scoped>\n",
       "    .dataframe tbody tr th:only-of-type {\n",
       "        vertical-align: middle;\n",
       "    }\n",
       "\n",
       "    .dataframe tbody tr th {\n",
       "        vertical-align: top;\n",
       "    }\n",
       "\n",
       "    .dataframe thead th {\n",
       "        text-align: right;\n",
       "    }\n",
       "</style>\n",
       "<table border=\"1\" class=\"dataframe\">\n",
       "  <thead>\n",
       "    <tr style=\"text-align: right;\">\n",
       "      <th>k</th>\n",
       "      <th>1</th>\n",
       "      <th>3</th>\n",
       "      <th>5</th>\n",
       "      <th>10</th>\n",
       "    </tr>\n",
       "  </thead>\n",
       "  <tbody>\n",
       "    <tr>\n",
       "      <th>hits@k</th>\n",
       "      <td>0.068436</td>\n",
       "      <td>0.283985</td>\n",
       "      <td>0.410149</td>\n",
       "      <td>0.587058</td>\n",
       "    </tr>\n",
       "  </tbody>\n",
       "</table>\n",
       "</div>"
      ],
      "text/plain": [
       "k             1         3         5         10\n",
       "hits@k  0.068436  0.283985  0.410149  0.587058"
      ]
     },
     "metadata": {},
     "output_type": "display_data"
    },
    {
     "data": {
      "text/html": [
       "<h3>True negative ratio</h3>"
      ],
      "text/plain": [
       "<IPython.core.display.HTML object>"
      ]
     },
     "metadata": {},
     "output_type": "display_data"
    },
    {
     "data": {
      "text/html": [
       "<div>\n",
       "<style scoped>\n",
       "    .dataframe tbody tr th:only-of-type {\n",
       "        vertical-align: middle;\n",
       "    }\n",
       "\n",
       "    .dataframe tbody tr th {\n",
       "        vertical-align: top;\n",
       "    }\n",
       "\n",
       "    .dataframe thead th {\n",
       "        text-align: right;\n",
       "    }\n",
       "</style>\n",
       "<table border=\"1\" class=\"dataframe\">\n",
       "  <thead>\n",
       "    <tr style=\"text-align: right;\">\n",
       "      <th>Top</th>\n",
       "      <th>0.01</th>\n",
       "      <th>0.03</th>\n",
       "      <th>0.05</th>\n",
       "    </tr>\n",
       "  </thead>\n",
       "  <tbody>\n",
       "    <tr>\n",
       "      <th>tnr(mean)</th>\n",
       "      <td>0.6</td>\n",
       "      <td>0.45</td>\n",
       "      <td>0.383019</td>\n",
       "    </tr>\n",
       "  </tbody>\n",
       "</table>\n",
       "</div>"
      ],
      "text/plain": [
       "Top        0.01  0.03      0.05\n",
       "tnr(mean)   0.6  0.45  0.383019"
      ]
     },
     "metadata": {},
     "output_type": "display_data"
    },
    {
     "data": {
      "text/html": [
       "<h3>Boxplot of True Negative Ratio</h3>"
      ],
      "text/plain": [
       "<IPython.core.display.HTML object>"
      ]
     },
     "metadata": {},
     "output_type": "display_data"
    },
    {
     "data": {
      "image/png": "[encoded data removed]",
      "text/plain": [
       "<Figure size 400x200 with 1 Axes>"
      ]
     },
     "metadata": {},
     "output_type": "display_data"
    },
    {
     "data": {
      "text/plain": [
       "None"
      ]
     },
     "metadata": {},
     "output_type": "display_data"
    },
    {
     "data": {
      "text/html": [
       "<h3>Example of Score Distribution</h3>"
      ],
      "text/plain": [
       "<IPython.core.display.HTML object>"
      ]
     },
     "metadata": {},
     "output_type": "display_data"
    },
    {
     "data": {
      "image/png": "[encoded data removed]",
      "text/plain": [
       "<Figure size 400x500 with 2 Axes>"
      ]
     },
     "metadata": {},
     "output_type": "display_data"
    },
    {
     "data": {
      "text/plain": [
       "None"
      ]
     },
     "metadata": {},
     "output_type": "display_data"
    },
    {
     "data": {
      "text/html": [
       "<h3>Example of Precision-Recall Curve</h3>"
      ],
      "text/plain": [
       "<IPython.core.display.HTML object>"
      ]
     },
     "metadata": {},
     "output_type": "display_data"
    },
    {
     "data": {
      "image/png": "[encoded data removed]",
      "text/plain": [
       "<Figure size 400x300 with 1 Axes>"
      ]
     },
     "metadata": {},
     "output_type": "display_data"
    },
    {
     "data": {
      "text/plain": [
       "None"
      ]
     },
     "metadata": {},
     "output_type": "display_data"
    },
    {
     "data": {
      "text/html": [
       "<h3>Comparison between scores of true and false tiples</h3>"
      ],
      "text/plain": [
       "<IPython.core.display.HTML object>"
      ]
     },
     "metadata": {},
     "output_type": "display_data"
    },
    {
     "data": {
      "image/png": "[encoded data removed]",
      "text/plain": [
       "<Figure size 400x300 with 1 Axes>"
      ]
     },
     "metadata": {},
     "output_type": "display_data"
    },
    {
     "data": {
      "text/plain": [
       "None"
      ]
     },
     "metadata": {},
     "output_type": "display_data"
    }
   ],
   "source": [
    "%matplotlib inline\n",
    "display(HTML(f'<h2>Data Set: {dataset_name}</h2>'))\n",
    "# Hits@k\n",
    "display(HTML('<h3>Hits@K</h3>'))\n",
    "display(HTML('<h4>Vanilla</h4>'))\n",
    "display(sr_vhits_at_k.to_frame().T)\n",
    "display(HTML('<h4>Filtered</h4>'))\n",
    "display(sr_hits_at_k.to_frame().T)\n",
    "\n",
    "# True negative ratio\n",
    "display(HTML('<h3>True negative ratio</h3>'))\n",
    "\n",
    "dict_data_tnr = {}\n",
    "for i in dict_false_triples.keys():\n",
    "    dict_data_tnr[i] = {}\n",
    "    for k in dict_false_triples[i]['true_negative_ratio'].keys():\n",
    "        dict_data_tnr[i][k] = dict_false_triples[i]['true_negative_ratio'][k]['value']\n",
    "df_tnr = pd.DataFrame(dict_data_tnr).T\n",
    "df_tnr.columns.name = 'Top'\n",
    "\n",
    "sr_tnr_mean = df_tnr.mean()\n",
    "sr_tnr_mean.name = 'tnr(mean)'\n",
    "display(sr_tnr_mean.to_frame().T)\n",
    "\n",
    "display(HTML('<h3>Boxplot of True Negative Ratio</h3>'))\n",
    "\n",
    "fig_tnr, ax = plt.subplots(figsize=(4,2))\n",
    "df_tnr.plot(kind='box', ax=ax)\n",
    "ax.set_xlabel('top')\n",
    "ax.set_ylabel('true negative ratio')\n",
    "fig_tnr.tight_layout()\n",
    "display(plt.show())\n",
    "\n",
    "display(HTML('<h3>Example of Score Distribution</h3>'))\n",
    "# Score distribution\n",
    "first_key = list(dict_false_triples.keys())[0]\n",
    "df_feature = dict_false_triples[first_key]['df_feature']\n",
    "df_plot = df_feature\n",
    "fig_score, axs = plt.subplots(figsize=(4,5), nrows=2, sharex=True)\n",
    "sr_score_true = df_plot[df_plot['is-error']==False]['score']\n",
    "sr_score_false = df_plot[df_plot['is-error']==True]['score']\n",
    "vmin = min(sr_score_true.min(),sr_score_false.min())\n",
    "vmax = max(sr_score_true.max(),sr_score_false.max())\n",
    "sr_score_true.plot(kind='hist', ax=axs[0], range=(vmin, vmax), bins=30)\n",
    "sr_score_false.plot(kind='hist', ax=axs[1], range=(vmin, vmax), bins=30)\n",
    "display(plt.show())\n",
    "\n",
    "display(HTML('<h3>Example of Precision-Recall Curve</h3>'))\n",
    "plt.figure(figsize=(4,3))\n",
    "precision, recall, thresholds = precision_recall_curve(df_plot['is-error'], -df_plot['score'], pos_label=True)\n",
    "pr_auc = auc(recall, precision)\n",
    "pr_auc = int(100*pr_auc)\n",
    "plt.plot(recall, precision, '-')\n",
    "plt.xlabel('Recall')\n",
    "plt.ylabel('Precision')\n",
    "plt.title(f'PR-AUC:${pr_auc:.2e}$ ')\n",
    "fig_score.tight_layout()\n",
    "display(plt.show())\n",
    "\n",
    "display(HTML('<h3>Comparison between scores of true and false tiples</h3>'))\n",
    "fig_score_true_vs_false, ax = plt.subplots(figsize=(4,3))\n",
    "df_sorted_feature[df_sorted_feature['is-error']==False].plot(x='score(org)', y='score', marker='.', lw=0, ax=ax, label='True tirple')\n",
    "df_sorted_feature[df_sorted_feature['is-error']==True].plot(x='score(org)', y='score', marker='.', lw=0, ax=ax, label='False tirple')\n",
    "ax.set_xlabel('socores of original triples \\nhaving only true tiples')\n",
    "ax.set_ylabel('scores of modified triples \\nhaving false triples')\n",
    "display(plt.show())"
   ]
  },
  {
   "cell_type": "code",
   "execution_count": 17,
   "id": "aa687e9a-ad0a-4752-a152-7995ef7f640d",
   "metadata": {},
   "outputs": [
    {
     "name": "stderr",
     "output_type": "stream",
     "text": [
      "INFO:root:Loaded info from ./reports/20240725/kinships_transe_false_triple_analysis/info.json\n"
     ]
    }
   ],
   "source": [
    "db = DataBinder(target_dir=dir_report)"
   ]
  },
  {
   "cell_type": "code",
   "execution_count": 18,
   "id": "5102b8bd-986d-45d9-b4a9-1a48d7b19663",
   "metadata": {},
   "outputs": [
    {
     "name": "stderr",
     "output_type": "stream",
     "text": [
      "INFO:root:Saved info at 2024-07-25 11:59:39\n",
      "INFO:root:Saved info at 2024-07-25 11:59:39\n",
      "INFO:root:Saved info at 2024-07-25 11:59:39\n",
      "INFO:root:Saved info at 2024-07-25 11:59:39\n",
      "INFO:root:Saved info at 2024-07-25 11:59:39\n",
      "INFO:root:Saved info at 2024-07-25 11:59:39\n",
      "INFO:root:Saved info at 2024-07-25 11:59:39\n"
     ]
    }
   ],
   "source": [
    "db.add('sr_hits_at_k', sr_hits_at_k)\n",
    "db.add('sr_vhits_at_k', sr_vhits_at_k)\n",
    "db.add('median_rank', mr)\n",
    "db.add('df_tnr', df_tnr)\n",
    "db.add('sr_tnr_mean', sr_tnr_mean)\n",
    "db.add('fig_tnr', fig_tnr)\n",
    "db.add('fig_score', fig_score)"
   ]
  }
 ],
 "metadata": {
  "kernelspec": {
   "display_name": "Python 3 (ipykernel)",
   "language": "python",
   "name": "python3"
  },
  "language_info": {
   "codemirror_mode": {
    "name": "ipython",
    "version": 3
   },
   "file_extension": ".py",
   "mimetype": "text/x-python",
   "name": "python",
   "nbconvert_exporter": "python",
   "pygments_lexer": "ipython3",
   "version": "3.10.14"
  }
 },
 "nbformat": 4,
 "nbformat_minor": 5
}
