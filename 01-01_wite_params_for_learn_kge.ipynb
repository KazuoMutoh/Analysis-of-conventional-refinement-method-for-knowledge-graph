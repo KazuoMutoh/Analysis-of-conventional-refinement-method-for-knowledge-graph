{
 "cells": [
  {
   "cell_type": "markdown",
   "id": "f762b0e6-3c57-458c-bdbe-22ce57a7d423",
   "metadata": {},
   "source": [
    "# Write optimized parameters for learning knowledge graph embedding\n",
    "For optimized parameter, please refer to [this github page](https://github.com/pykeen/benchmarking).\n"
   ]
  },
  {
   "cell_type": "markdown",
   "id": "ead0b966-8f00-44c6-a5fc-7dc0736aa9d1",
   "metadata": {},
   "source": [
    "## modules"
   ]
  },
  {
   "cell_type": "code",
   "execution_count": 12,
   "id": "b8bed98b-6697-47ec-b585-df176ca1fac7",
   "metadata": {},
   "outputs": [],
   "source": [
    "from pykeen.pipeline import pipeline\n",
    "from pykeen.datasets import get_dataset\n",
    "import pandas as pd\n",
    "import numpy as np\n",
    "import yaml\n",
    "import os\n",
    "from util.databinder import DataBinder "
   ]
  },
  {
   "cell_type": "markdown",
   "id": "07ea47e8-fd16-4b11-a0f4-702d1438f298",
   "metadata": {},
   "source": [
    "## functions"
   ]
  },
  {
   "cell_type": "code",
   "execution_count": 2,
   "id": "8b8b8dd9-933d-41d6-b95f-fe3cac67e615",
   "metadata": {},
   "outputs": [],
   "source": [
    "def convert_dtype(value):\n",
    "    if isinstance(value, np.floating):\n",
    "        return float(value)\n",
    "    elif isinstance(value, np.integer):\n",
    "        return int(value)\n",
    "    else:\n",
    "        return value"
   ]
  },
  {
   "cell_type": "markdown",
   "id": "496ea086-c624-4fdb-9f53-4e77d1847c7d",
   "metadata": {},
   "source": [
    "## parameters"
   ]
  },
  {
   "cell_type": "code",
   "execution_count": 3,
   "id": "267617d2-ed76-45ef-88db-9ad8861f0f74",
   "metadata": {},
   "outputs": [],
   "source": [
    "dir_output = './tmp/20240627_params_for_learn_kge'\n",
    "random_seeds = [1,2,3,4,5,6,7,8,9,10]"
   ]
  },
  {
   "cell_type": "markdown",
   "id": "feb8c528-fd08-40ae-acba-adc8404de2c4",
   "metadata": {},
   "source": [
    "## main"
   ]
  },
  {
   "cell_type": "code",
   "execution_count": 4,
   "id": "e33584da-ac63-4063-8485-63a1d06b1061",
   "metadata": {},
   "outputs": [],
   "source": [
    "f_params = '../benchmarking/df_best_param.pkl'\n",
    "df_best_params_org = pd.read_pickle(f_params).reset_index()"
   ]
  },
  {
   "cell_type": "code",
   "execution_count": 5,
   "id": "15fc1ebd-4a47-4d5b-8119-b343eda8c77c",
   "metadata": {},
   "outputs": [],
   "source": [
    "df_best_params = df_best_params_org[df_best_params_org['model'].isin(['transe'])]"
   ]
  },
  {
   "cell_type": "code",
   "execution_count": 6,
   "id": "f00d704f-0244-4aa7-b8da-038de1cafbbb",
   "metadata": {},
   "outputs": [],
   "source": [
    "df_best_params = df_best_params[df_best_params['dataset'].isin(['fb15k237', 'kinships', 'wn18rr'])]"
   ]
  },
  {
   "cell_type": "code",
   "execution_count": 7,
   "id": "661b3088-bc1e-463b-bf3b-f0a7df751cc6",
   "metadata": {},
   "outputs": [
    {
     "data": {
      "text/html": [
       "<div>\n",
       "<style scoped>\n",
       "    .dataframe tbody tr th:only-of-type {\n",
       "        vertical-align: middle;\n",
       "    }\n",
       "\n",
       "    .dataframe tbody tr th {\n",
       "        vertical-align: top;\n",
       "    }\n",
       "\n",
       "    .dataframe thead th {\n",
       "        text-align: right;\n",
       "    }\n",
       "</style>\n",
       "<table border=\"1\" class=\"dataframe\">\n",
       "  <thead>\n",
       "    <tr style=\"text-align: right;\">\n",
       "      <th></th>\n",
       "      <th>index</th>\n",
       "      <th>dataset</th>\n",
       "      <th>evaluator</th>\n",
       "      <th>loss</th>\n",
       "      <th>metric</th>\n",
       "      <th>model</th>\n",
       "      <th>optimizer</th>\n",
       "      <th>pykeen_git_hash</th>\n",
       "      <th>pykeen_version</th>\n",
       "      <th>regularizer</th>\n",
       "      <th>...</th>\n",
       "      <th>pipeline_config.pipeline.model_kwargs.embedding_height</th>\n",
       "      <th>pipeline_config.pipeline.model_kwargs.embedding_width</th>\n",
       "      <th>pipeline_config.pipeline.model_kwargs.input_channels</th>\n",
       "      <th>pipeline_config.pipeline.model_kwargs.kernel_height</th>\n",
       "      <th>pipeline_config.pipeline.model_kwargs.kernel_width</th>\n",
       "      <th>hpo.pipeline.model_kwargs.input_channels</th>\n",
       "      <th>hpo.pipeline.model_kwargs.embedding_height</th>\n",
       "      <th>hpo.pipeline.model_kwargs.embedding_width</th>\n",
       "      <th>hpo.pipeline.model_kwargs.kernel_height</th>\n",
       "      <th>hpo.pipeline.model_kwargs.kernel_width</th>\n",
       "    </tr>\n",
       "  </thead>\n",
       "  <tbody>\n",
       "    <tr>\n",
       "      <th>0</th>\n",
       "      <td>0</td>\n",
       "      <td>fb15k237</td>\n",
       "      <td>rankbased</td>\n",
       "      <td>crossentropy</td>\n",
       "      <td>hits@10</td>\n",
       "      <td>transe</td>\n",
       "      <td>adam</td>\n",
       "      <td>ec6b0751</td>\n",
       "      <td>0.1.2-dev</td>\n",
       "      <td>no</td>\n",
       "      <td>...</td>\n",
       "      <td>NaN</td>\n",
       "      <td>NaN</td>\n",
       "      <td>NaN</td>\n",
       "      <td>NaN</td>\n",
       "      <td>NaN</td>\n",
       "      <td>NaN</td>\n",
       "      <td>NaN</td>\n",
       "      <td>NaN</td>\n",
       "      <td>NaN</td>\n",
       "      <td>NaN</td>\n",
       "    </tr>\n",
       "    <tr>\n",
       "      <th>1</th>\n",
       "      <td>0</td>\n",
       "      <td>kinships</td>\n",
       "      <td>rankbased</td>\n",
       "      <td>crossentropy</td>\n",
       "      <td>hits@10</td>\n",
       "      <td>transe</td>\n",
       "      <td>adadelta</td>\n",
       "      <td>c414b0a6</td>\n",
       "      <td>0.1.2-dev</td>\n",
       "      <td>no</td>\n",
       "      <td>...</td>\n",
       "      <td>NaN</td>\n",
       "      <td>NaN</td>\n",
       "      <td>NaN</td>\n",
       "      <td>NaN</td>\n",
       "      <td>NaN</td>\n",
       "      <td>NaN</td>\n",
       "      <td>NaN</td>\n",
       "      <td>NaN</td>\n",
       "      <td>NaN</td>\n",
       "      <td>NaN</td>\n",
       "    </tr>\n",
       "    <tr>\n",
       "      <th>2</th>\n",
       "      <td>0</td>\n",
       "      <td>wn18rr</td>\n",
       "      <td>rankbased</td>\n",
       "      <td>softplus</td>\n",
       "      <td>hits@10</td>\n",
       "      <td>transe</td>\n",
       "      <td>adam</td>\n",
       "      <td>56e46b3e</td>\n",
       "      <td>0.1.2-dev</td>\n",
       "      <td>no</td>\n",
       "      <td>...</td>\n",
       "      <td>NaN</td>\n",
       "      <td>NaN</td>\n",
       "      <td>NaN</td>\n",
       "      <td>NaN</td>\n",
       "      <td>NaN</td>\n",
       "      <td>NaN</td>\n",
       "      <td>NaN</td>\n",
       "      <td>NaN</td>\n",
       "      <td>NaN</td>\n",
       "      <td>NaN</td>\n",
       "    </tr>\n",
       "  </tbody>\n",
       "</table>\n",
       "<p>3 rows × 252 columns</p>\n",
       "</div>"
      ],
      "text/plain": [
       "   index   dataset  evaluator          loss   metric   model optimizer  \\\n",
       "0      0  fb15k237  rankbased  crossentropy  hits@10  transe      adam   \n",
       "1      0  kinships  rankbased  crossentropy  hits@10  transe  adadelta   \n",
       "2      0    wn18rr  rankbased      softplus  hits@10  transe      adam   \n",
       "\n",
       "  pykeen_git_hash pykeen_version regularizer  ...  \\\n",
       "0        ec6b0751      0.1.2-dev          no  ...   \n",
       "1        c414b0a6      0.1.2-dev          no  ...   \n",
       "2        56e46b3e      0.1.2-dev          no  ...   \n",
       "\n",
       "  pipeline_config.pipeline.model_kwargs.embedding_height  \\\n",
       "0                                                NaN       \n",
       "1                                                NaN       \n",
       "2                                                NaN       \n",
       "\n",
       "   pipeline_config.pipeline.model_kwargs.embedding_width  \\\n",
       "0                                                NaN       \n",
       "1                                                NaN       \n",
       "2                                                NaN       \n",
       "\n",
       "   pipeline_config.pipeline.model_kwargs.input_channels  \\\n",
       "0                                                NaN      \n",
       "1                                                NaN      \n",
       "2                                                NaN      \n",
       "\n",
       "   pipeline_config.pipeline.model_kwargs.kernel_height  \\\n",
       "0                                                NaN     \n",
       "1                                                NaN     \n",
       "2                                                NaN     \n",
       "\n",
       "  pipeline_config.pipeline.model_kwargs.kernel_width  \\\n",
       "0                                                NaN   \n",
       "1                                                NaN   \n",
       "2                                                NaN   \n",
       "\n",
       "  hpo.pipeline.model_kwargs.input_channels  \\\n",
       "0                                      NaN   \n",
       "1                                      NaN   \n",
       "2                                      NaN   \n",
       "\n",
       "  hpo.pipeline.model_kwargs.embedding_height  \\\n",
       "0                                        NaN   \n",
       "1                                        NaN   \n",
       "2                                        NaN   \n",
       "\n",
       "   hpo.pipeline.model_kwargs.embedding_width  \\\n",
       "0                                        NaN   \n",
       "1                                        NaN   \n",
       "2                                        NaN   \n",
       "\n",
       "   hpo.pipeline.model_kwargs.kernel_height  \\\n",
       "0                                      NaN   \n",
       "1                                      NaN   \n",
       "2                                      NaN   \n",
       "\n",
       "  hpo.pipeline.model_kwargs.kernel_width  \n",
       "0                                    NaN  \n",
       "1                                    NaN  \n",
       "2                                    NaN  \n",
       "\n",
       "[3 rows x 252 columns]"
      ]
     },
     "execution_count": 7,
     "metadata": {},
     "output_type": "execute_result"
    }
   ],
   "source": [
    "df_best_params "
   ]
  },
  {
   "cell_type": "code",
   "execution_count": 8,
   "id": "5d0a7ec4-1142-4860-bcc7-dc5f71519836",
   "metadata": {},
   "outputs": [
    {
     "data": {
      "text/html": [
       "<div>\n",
       "<style scoped>\n",
       "    .dataframe tbody tr th:only-of-type {\n",
       "        vertical-align: middle;\n",
       "    }\n",
       "\n",
       "    .dataframe tbody tr th {\n",
       "        vertical-align: top;\n",
       "    }\n",
       "\n",
       "    .dataframe thead th {\n",
       "        text-align: right;\n",
       "    }\n",
       "</style>\n",
       "<table border=\"1\" class=\"dataframe\">\n",
       "  <thead>\n",
       "    <tr style=\"text-align: right;\">\n",
       "      <th></th>\n",
       "      <th>0</th>\n",
       "      <th>1</th>\n",
       "      <th>2</th>\n",
       "    </tr>\n",
       "  </thead>\n",
       "  <tbody>\n",
       "    <tr>\n",
       "      <th>hpo.pipeline.stopper</th>\n",
       "      <td>early</td>\n",
       "      <td>early</td>\n",
       "      <td>early</td>\n",
       "    </tr>\n",
       "    <tr>\n",
       "      <th>hpo.pipeline.stopper_kwargs.frequency</th>\n",
       "      <td>50</td>\n",
       "      <td>50</td>\n",
       "      <td>50</td>\n",
       "    </tr>\n",
       "    <tr>\n",
       "      <th>hpo.pipeline.stopper_kwargs.patience</th>\n",
       "      <td>2</td>\n",
       "      <td>2</td>\n",
       "      <td>2</td>\n",
       "    </tr>\n",
       "    <tr>\n",
       "      <th>hpo.pipeline.stopper_kwargs.delta</th>\n",
       "      <td>0.002</td>\n",
       "      <td>0.002</td>\n",
       "      <td>0.002</td>\n",
       "    </tr>\n",
       "  </tbody>\n",
       "</table>\n",
       "</div>"
      ],
      "text/plain": [
       "                                           0      1      2\n",
       "hpo.pipeline.stopper                   early  early  early\n",
       "hpo.pipeline.stopper_kwargs.frequency     50     50     50\n",
       "hpo.pipeline.stopper_kwargs.patience       2      2      2\n",
       "hpo.pipeline.stopper_kwargs.delta      0.002  0.002  0.002"
      ]
     },
     "execution_count": 8,
     "metadata": {},
     "output_type": "execute_result"
    }
   ],
   "source": [
    "df_best_params.filter(regex='hpo.pipeline.stopper').T"
   ]
  },
  {
   "cell_type": "code",
   "execution_count": 9,
   "id": "edd74765-fbdf-4005-abb9-767b631f1394",
   "metadata": {},
   "outputs": [],
   "source": [
    "list_args = []\n",
    "for idx in df_best_params.index:\n",
    "    for random_seed in random_seeds:\n",
    "    \n",
    "        dict_args = {}\n",
    "        \n",
    "        dict_args['dataset'] = df_best_params.loc[idx,'dataset']\n",
    "        \n",
    "        dict_args['dataset_kwargs'] = {}\n",
    "        for k, v in df_best_params.filter(regex='pipeline_config.pipeline.dataset_kwargs').loc[idx].items():\n",
    "            if not np.isnan(v):\n",
    "                dict_args['dataset_kwargs'][k.split('.')[-1]] = v\n",
    "    \n",
    "        dict_args['evaluator'] = df_best_params.loc[idx,'evaluator']\n",
    "    \n",
    "        dict_args['evaluator_kwargs'] = {}\n",
    "        for k, v in df_best_params.filter(regex='pipeline_config.pipeline.evaluator_kwargs').loc[idx].items():\n",
    "            if not np.isnan(v):\n",
    "                dict_args['evaluator_kwargs'][k.split('.')[-1]] = v\n",
    "        \n",
    "        dict_args['model'] = df_best_params.loc[idx,'model']\n",
    "    \n",
    "        dict_args['loss'] = df_best_params.loc[idx, 'loss']\n",
    "    \n",
    "        dict_args['regularizer'] = df_best_params.loc[idx, 'regularizer']\n",
    "    \n",
    "        dict_args['optimizer'] = df_best_params.loc[idx, 'optimizer']\n",
    "    \n",
    "        dict_args['optimizer_kwargs'] = {}\n",
    "        for k, v in df_best_params.filter(regex='pipeline_config.pipeline.optimizer_kwargs').loc[idx].items():\n",
    "            if not np.isnan(v) and 'automatic_memory_optimization' not in k:\n",
    "                dict_args['optimizer_kwargs'][k.split('.')[-1]] = convert_dtype(v)\n",
    "        \n",
    "        dict_args['model_kwargs'] = {}\n",
    "        for k, v in df_best_params.filter(regex='pipeline_config.pipeline.model_kwargs').loc[idx].items():\n",
    "            if not np.isnan(v) and 'automatic_memory_optimization' not in k:\n",
    "                k = k.split('.')[-1]\n",
    "                if k in ['output_channels', 'kernel_height', 'kernel_width']:\n",
    "                    v = int(v)    \n",
    "                dict_args['model_kwargs'][k] = convert_dtype(v)\n",
    "    \n",
    "        dict_args['training_loop'] = df_best_params.loc[idx, 'training_loop']\n",
    "    \n",
    "        dict_args['training_kwargs'] = {}\n",
    "        for k, v in df_best_params.filter(regex='pipeline_config.pipeline.training_kwargs').loc[idx].items():\n",
    "            if not np.isnan(v):\n",
    "                k = k.split('.')[-1]\n",
    "                if k in ['batch_size', 'num_epochs']:\n",
    "                    v = int(v)\n",
    "    \n",
    "                if k not in ['label_smoothing']:\n",
    "                    dict_args['training_kwargs'][k.split('.')[-1]] = v\n",
    "\n",
    "        dict_args['random_seed'] = random_seed\n",
    "    \n",
    "        list_args.append(dict_args)"
   ]
  },
  {
   "cell_type": "code",
   "execution_count": 10,
   "id": "8674acd4-b275-404b-a10f-4d8a3f1b5ad5",
   "metadata": {},
   "outputs": [
    {
     "name": "stderr",
     "output_type": "stream",
     "text": [
      "INFO:root:Loaded info from ./tmp/20240627_params_for_learn_kge/info.json\n",
      "INFO:root:Saved info at 2024-06-27 05:45:24\n"
     ]
    },
    {
     "data": {
      "text/plain": [
       "'./tmp/20240627_params_for_learn_kge/params.pt'"
      ]
     },
     "execution_count": 10,
     "metadata": {},
     "output_type": "execute_result"
    }
   ],
   "source": [
    "db = DataBinder(target_dir=dir_output)\n",
    "db.add('params',list_args)"
   ]
  },
  {
   "cell_type": "code",
   "execution_count": 13,
   "id": "9616c230-1cf9-43c3-b841-c6d29727068c",
   "metadata": {},
   "outputs": [],
   "source": [
    "for i, dict_args in enumerate(list_args):\n",
    "    with open(f'./params/{i}.yaml', 'w') as fout:\n",
    "        yaml.dump(dict_args, fout)"
   ]
  },
  {
   "cell_type": "code",
   "execution_count": null,
   "id": "328a6a42-4be5-46bb-a9e1-df86e4fa1abc",
   "metadata": {},
   "outputs": [],
   "source": []
  }
 ],
 "metadata": {
  "kernelspec": {
   "display_name": "Python 3 (ipykernel)",
   "language": "python",
   "name": "python3"
  },
  "language_info": {
   "codemirror_mode": {
    "name": "ipython",
    "version": 3
   },
   "file_extension": ".py",
   "mimetype": "text/x-python",
   "name": "python",
   "nbconvert_exporter": "python",
   "pygments_lexer": "ipython3",
   "version": "3.10.14"
  }
 },
 "nbformat": 4,
 "nbformat_minor": 5
}
