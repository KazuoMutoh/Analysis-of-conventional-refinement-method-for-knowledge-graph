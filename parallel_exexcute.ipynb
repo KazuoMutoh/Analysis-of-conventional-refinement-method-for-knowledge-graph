{
 "cells": [
  {
   "cell_type": "code",
   "execution_count": 1,
   "id": "03a526a4-d6f4-420a-80f9-382f9b721d91",
   "metadata": {},
   "outputs": [],
   "source": [
    "# modules"
   ]
  },
  {
   "cell_type": "code",
   "execution_count": 6,
   "id": "eb55f92f-9385-45e2-94e3-6e995c9719b0",
   "metadata": {},
   "outputs": [],
   "source": [
    "import yaml\n",
    "import os\n",
    "from glob import glob"
   ]
  },
  {
   "cell_type": "code",
   "execution_count": 3,
   "id": "2eb77b43-2532-4dfd-a63f-dfe7ea428129",
   "metadata": {},
   "outputs": [],
   "source": [
    "# parameters"
   ]
  },
  {
   "cell_type": "code",
   "execution_count": 11,
   "id": "095b689f-8151-4a99-948c-e67427fd65f5",
   "metadata": {},
   "outputs": [],
   "source": [
    "dir_parms = './params'\n",
    "dir_output = './scripts_output'\n",
    "dir_script = './scripts'"
   ]
  },
  {
   "cell_type": "code",
   "execution_count": 8,
   "id": "295877c6-a7bf-4473-b36a-4a4f2d14836c",
   "metadata": {},
   "outputs": [],
   "source": [
    "os.mkdir(dir_script)"
   ]
  },
  {
   "cell_type": "code",
   "execution_count": 30,
   "id": "b0e27064-36e8-4c99-93c8-c5545644f349",
   "metadata": {},
   "outputs": [
    {
     "name": "stdout",
     "output_type": "stream",
     "text": [
      "./params/25.yaml\n",
      "Your job 42624881 (\"script_25.yaml.sh\") has been submitted\n",
      "./params/16.yaml\n",
      "Your job 42624882 (\"script_16.yaml.sh\") has been submitted\n",
      "./params/0.yaml\n",
      "Your job 42624883 (\"script_0.yaml.sh\") has been submitted\n",
      "./params/18.yaml\n",
      "Your job 42624884 (\"script_18.yaml.sh\") has been submitted\n",
      "./params/9.yaml\n",
      "Your job 42624885 (\"script_9.yaml.sh\") has been submitted\n",
      "./params/24.yaml\n",
      "Your job 42624886 (\"script_24.yaml.sh\") has been submitted\n",
      "./params/27.yaml\n",
      "Your job 42624887 (\"script_27.yaml.sh\") has been submitted\n",
      "./params/29.yaml\n",
      "Your job 42624888 (\"script_29.yaml.sh\") has been submitted\n",
      "./params/21.yaml\n",
      "Your job 42624889 (\"script_21.yaml.sh\") has been submitted\n",
      "./params/7.yaml\n",
      "Your job 42624890 (\"script_7.yaml.sh\") has been submitted\n",
      "./params/23.yaml\n",
      "Your job 42624891 (\"script_23.yaml.sh\") has been submitted\n",
      "./params/1.yaml\n",
      "Your job 42624892 (\"script_1.yaml.sh\") has been submitted\n",
      "./params/19.yaml\n",
      "Your job 42624893 (\"script_19.yaml.sh\") has been submitted\n",
      "./params/2.yaml\n",
      "Your job 42624894 (\"script_2.yaml.sh\") has been submitted\n",
      "./params/12.yaml\n",
      "Your job 42624895 (\"script_12.yaml.sh\") has been submitted\n",
      "./params/15.yaml\n",
      "Your job 42624896 (\"script_15.yaml.sh\") has been submitted\n",
      "./params/4.yaml\n",
      "Your job 42624897 (\"script_4.yaml.sh\") has been submitted\n",
      "./params/28.yaml\n",
      "Your job 42624898 (\"script_28.yaml.sh\") has been submitted\n",
      "./params/13.yaml\n",
      "Your job 42624899 (\"script_13.yaml.sh\") has been submitted\n",
      "./params/5.yaml\n",
      "Your job 42624900 (\"script_5.yaml.sh\") has been submitted\n",
      "./params/10.yaml\n",
      "Your job 42624901 (\"script_10.yaml.sh\") has been submitted\n",
      "./params/26.yaml\n",
      "Your job 42624902 (\"script_26.yaml.sh\") has been submitted\n",
      "./params/8.yaml\n",
      "Your job 42624903 (\"script_8.yaml.sh\") has been submitted\n",
      "./params/11.yaml\n",
      "Your job 42624904 (\"script_11.yaml.sh\") has been submitted\n",
      "./params/17.yaml\n",
      "Your job 42624905 (\"script_17.yaml.sh\") has been submitted\n",
      "./params/22.yaml\n",
      "Your job 42624906 (\"script_22.yaml.sh\") has been submitted\n",
      "./params/20.yaml\n",
      "Your job 42624907 (\"script_20.yaml.sh\") has been submitted\n",
      "./params/14.yaml\n",
      "Your job 42624908 (\"script_14.yaml.sh\") has been submitted\n",
      "./params/3.yaml\n",
      "Your job 42624909 (\"script_3.yaml.sh\") has been submitted\n",
      "./params/6.yaml\n",
      "Your job 42624910 (\"script_6.yaml.sh\") has been submitted\n"
     ]
    }
   ],
   "source": [
    "import textwrap\n",
    "\n",
    "# create script\n",
    "for f_param in glob(f'{dir_parms}/*'):\n",
    "\n",
    "    print(f_param)\n",
    "\n",
    "    _f_param = os.path.basename(f_param)\n",
    "\n",
    "    script = textwrap.dedent(f\"\"\"\n",
    "    #!/bin/bash\n",
    "    \n",
    "    # options for batch job execution.\n",
    "    # for all options, please check https://docs.abci.ai/ja/job-execution/#job-execution-options \n",
    "    \n",
    "    #$ -l rt_G.small=1\n",
    "    #$ -l h_rt=01:00:00\n",
    "    #$ -m a\n",
    "    #$ -m b\n",
    "    #$ -m e\n",
    "    #$ -j y\n",
    "    #$ -o ./logs_job/script_{_f_param}.sh.log\n",
    "    #$ -cwd\n",
    "    \n",
    "    source /etc/profile.d/modules.sh\n",
    "    source /home/acg16558pn/kg_20240423/bin/activate\n",
    "    module load cuda/12.1\n",
    "    module load python/3.10\n",
    "    python script_pykeen_pipeline.py -i {f_param} -o {dir_output}/{_f_param}\n",
    "    \"\"\")\n",
    "\n",
    "    with open(f'{dir_script}/script_{_f_param}.sh', 'w') as fout:\n",
    "        fout.write(script)\n",
    "\n",
    "    os.system(f'qsub -g gcc50441 {dir_script}/script_{_f_param}.sh') "
   ]
  },
  {
   "cell_type": "code",
   "execution_count": null,
   "id": "19f8a866-a709-4c07-9e34-a62cc862f2aa",
   "metadata": {},
   "outputs": [],
   "source": [
    "# batch execute\n"
   ]
  }
 ],
 "metadata": {
  "kernelspec": {
   "display_name": "Python 3 (ipykernel)",
   "language": "python",
   "name": "python3"
  },
  "language_info": {
   "codemirror_mode": {
    "name": "ipython",
    "version": 3
   },
   "file_extension": ".py",
   "mimetype": "text/x-python",
   "name": "python",
   "nbconvert_exporter": "python",
   "pygments_lexer": "ipython3",
   "version": "3.10.14"
  }
 },
 "nbformat": 4,
 "nbformat_minor": 5
}
